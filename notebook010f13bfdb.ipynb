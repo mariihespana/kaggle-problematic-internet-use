{
 "cells": [
  {
   "cell_type": "code",
   "execution_count": 1,
   "id": "9a0e8ac6",
   "metadata": {
    "execution": {
     "iopub.execute_input": "2024-11-03T01:09:03.232660Z",
     "iopub.status.busy": "2024-11-03T01:09:03.232131Z",
     "iopub.status.idle": "2024-11-03T01:09:04.375968Z",
     "shell.execute_reply": "2024-11-03T01:09:04.374934Z"
    },
    "papermill": {
     "duration": 1.160615,
     "end_time": "2024-11-03T01:09:04.378632",
     "exception": false,
     "start_time": "2024-11-03T01:09:03.218017",
     "status": "completed"
    },
    "tags": []
   },
   "outputs": [],
   "source": [
    "import pandas as pd\n",
    "\n",
    "\n",
    "\n",
    "# df=pd.read_csv(\"df_final_2.csv\")\n",
    "\n",
    "X_train = pd.read_csv('/kaggle/input/child-mind-institute-problematic-internet-use/train.csv').iloc[:, :-1]\n",
    "\n",
    "y_train = pd.read_csv('/kaggle/input/child-mind-institute-problematic-internet-use/train.csv').iloc[:, -1]\n",
    "\n",
    "X_test = pd.read_csv('/kaggle/input/child-mind-institute-problematic-internet-use/test.csv').iloc[:, :-1]\n",
    "\n",
    "y_test = pd.read_csv('/kaggle/input/child-mind-institute-problematic-internet-use/test.csv').iloc[:, -1]"
   ]
  },
  {
   "cell_type": "code",
   "execution_count": null,
   "id": "2c77c8af",
   "metadata": {
    "papermill": {
     "duration": 0.011117,
     "end_time": "2024-11-03T01:09:04.401535",
     "exception": false,
     "start_time": "2024-11-03T01:09:04.390418",
     "status": "completed"
    },
    "tags": []
   },
   "outputs": [],
   "source": []
  },
  {
   "cell_type": "code",
   "execution_count": 2,
   "id": "5c69823b",
   "metadata": {
    "execution": {
     "iopub.execute_input": "2024-11-03T01:09:04.426493Z",
     "iopub.status.busy": "2024-11-03T01:09:04.426015Z",
     "iopub.status.idle": "2024-11-03T01:09:05.905299Z",
     "shell.execute_reply": "2024-11-03T01:09:05.904244Z"
    },
    "papermill": {
     "duration": 1.494764,
     "end_time": "2024-11-03T01:09:05.908022",
     "exception": false,
     "start_time": "2024-11-03T01:09:04.413258",
     "status": "completed"
    },
    "tags": []
   },
   "outputs": [],
   "source": [
    "from sklearn.preprocessing import PolynomialFeatures\n",
    "\n",
    "\n",
    "\n",
    "def get_aggregations(df, column_groupby, column_agg):\n",
    "\n",
    "\n",
    "\n",
    "    if not isinstance(column_agg, list):\n",
    "\n",
    "        column_agg = [column_agg]\n",
    "\n",
    "    \n",
    "\n",
    "    # Create the aggregation dictionary\n",
    "\n",
    "    aggregation_dict = {}\n",
    "\n",
    "    for col in column_agg:\n",
    "\n",
    "        aggregation_dict.update({\n",
    "\n",
    "            f'Median_{col}': (col, 'median'),\n",
    "\n",
    "            f'Max_{col}': (col, 'max'),\n",
    "\n",
    "            f'Min_{col}': (col, 'min'),\n",
    "\n",
    "            f'Sum_{col}': (col, 'sum'),\n",
    "\n",
    "            f'Std_{col}': (col, 'std'),\n",
    "\n",
    "            f'Mean_{col}': (col, 'mean')\n",
    "\n",
    "        })\n",
    "\n",
    "    \n",
    "\n",
    "    # Perform groupby and aggregation\n",
    "\n",
    "    df_agg = df.groupby(column_groupby).agg(**aggregation_dict).reset_index()\n",
    "\n",
    "\n",
    "\n",
    "    return df_agg\n",
    "\n",
    "\n",
    "\n",
    "def get_polynomial_features(df, columns, degree=2):\n",
    "\n",
    "    \n",
    "\n",
    "    if not isinstance(columns, list):\n",
    "\n",
    "        columns = [columns]\n",
    "\n",
    "    # Initialize PolynomialFeatures with specified degree\n",
    "\n",
    "    poly = PolynomialFeatures(degree=degree, include_bias=False)\n",
    "\n",
    "    \n",
    "\n",
    "    # Select columns and generate polynomial features\n",
    "\n",
    "    poly_features = df[columns]\n",
    "\n",
    "    poly_array = poly.fit_transform(poly_features)\n",
    "\n",
    "    \n",
    "\n",
    "    # Get feature names and create DataFrame from polynomial array\n",
    "\n",
    "    poly_feature_names = poly.get_feature_names_out(columns)\n",
    "\n",
    "    poly_df = pd.DataFrame(poly_array, columns=poly_feature_names, index=df.index)\n",
    "\n",
    "    \n",
    "\n",
    "    # Concatenate the original DataFrame with polynomial features\n",
    "\n",
    "    df_with_poly = pd.concat([df, poly_df], axis=1)"
   ]
  },
  {
   "cell_type": "markdown",
   "id": "5ad0bac4",
   "metadata": {
    "papermill": {
     "duration": 0.011031,
     "end_time": "2024-11-03T01:09:05.931458",
     "exception": false,
     "start_time": "2024-11-03T01:09:05.920427",
     "status": "completed"
    },
    "tags": []
   },
   "source": [
    "Physical-Systolic_BP - min \\\n",
    "\n",
    "Physical-Diastolic_BP - min \\\n",
    "\n",
    "FGC-FGC_CU - median"
   ]
  },
  {
   "cell_type": "code",
   "execution_count": 3,
   "id": "f23b3ea7",
   "metadata": {
    "execution": {
     "iopub.execute_input": "2024-11-03T01:09:05.956898Z",
     "iopub.status.busy": "2024-11-03T01:09:05.955774Z",
     "iopub.status.idle": "2024-11-03T01:09:06.009113Z",
     "shell.execute_reply": "2024-11-03T01:09:06.007823Z"
    },
    "papermill": {
     "duration": 0.069045,
     "end_time": "2024-11-03T01:09:06.011893",
     "exception": false,
     "start_time": "2024-11-03T01:09:05.942848",
     "status": "completed"
    },
    "tags": []
   },
   "outputs": [],
   "source": [
    "from sklearn.preprocessing import PolynomialFeatures\n",
    "\n",
    "\n",
    "\n",
    "column_groupby = 'PCIAT-PCIAT_Total'\n",
    "\n",
    "column_agg=['FGC-FGC_CU','Physical-Systolic_BP','Physical-Diastolic_BP']\n",
    "\n",
    "# column_agg='FGC-FGC_CU'\n",
    "\n",
    "\n",
    "\n",
    "df_agg = get_aggregations(X_train, column_groupby=column_groupby, column_agg=column_agg)\n",
    "\n",
    "\n",
    "\n",
    "for column in df_agg.columns:\n",
    "\n",
    "    df_agg[column] = df_agg[column].fillna(df_agg[column].mean())\n",
    "\n",
    "\n",
    "\n",
    "# # Verificar pra calcular separadamente ou tudo junto polinomios e relacoes se adicionar mais de uma coluna\n",
    "\n",
    "# poly_df = get_polynomial_features(df_agg, columns=column_agg, degree=2)\n",
    "\n",
    "\n",
    "\n",
    "# df_agg = pd.concat([df_agg, poly_df], axis=1)"
   ]
  },
  {
   "cell_type": "code",
   "execution_count": 4,
   "id": "28926d71",
   "metadata": {
    "execution": {
     "iopub.execute_input": "2024-11-03T01:09:06.036500Z",
     "iopub.status.busy": "2024-11-03T01:09:06.036020Z",
     "iopub.status.idle": "2024-11-03T01:09:06.055779Z",
     "shell.execute_reply": "2024-11-03T01:09:06.054379Z"
    },
    "papermill": {
     "duration": 0.035085,
     "end_time": "2024-11-03T01:09:06.058396",
     "exception": false,
     "start_time": "2024-11-03T01:09:06.023311",
     "status": "completed"
    },
    "tags": []
   },
   "outputs": [
    {
     "name": "stdout",
     "output_type": "stream",
     "text": [
      "Features with highest correlation to PCIAT-PCIAT_Total \n",
      "\n",
      "Median_FGC-FGC_CU: 0.6644843180692392 \n",
      "\n",
      "Min_Physical-Systolic_BP: 0.6429503351979634 \n",
      "\n",
      "Min_Physical-Diastolic_BP: 0.6151229554265928 \n",
      "\n",
      "['Median_FGC-FGC_CU', 'Min_Physical-Systolic_BP', 'Min_Physical-Diastolic_BP']\n"
     ]
    }
   ],
   "source": [
    "print(f'Features with highest correlation to {column_groupby} \\n')\n",
    "\n",
    "columns_corr=[]\n",
    "\n",
    "for column in column_agg:\n",
    "\n",
    "\n",
    "\n",
    "    corr_df = df_agg.loc[:, df_agg.columns[df_agg.columns.str.endswith(column)].tolist()]\n",
    "\n",
    "    corr_df[column_groupby] = df_agg[column_groupby]\n",
    "\n",
    "    correlation_matrix = corr_df.corr()\n",
    "\n",
    "    feature_highest_corr = correlation_matrix[column_groupby].drop(column_groupby).abs().idxmax()\n",
    "\n",
    "    feature_corr_value = correlation_matrix[column_groupby].drop(column_groupby).abs().max()\n",
    "\n",
    "    print(f'{feature_highest_corr}: {feature_corr_value} \\n')\n",
    "\n",
    "\n",
    "\n",
    "    columns_corr.append(feature_highest_corr)\n",
    "\n",
    "\n",
    "\n",
    "print(columns_corr)"
   ]
  },
  {
   "cell_type": "code",
   "execution_count": 5,
   "id": "f2ee89bc",
   "metadata": {
    "execution": {
     "iopub.execute_input": "2024-11-03T01:09:06.083849Z",
     "iopub.status.busy": "2024-11-03T01:09:06.083039Z",
     "iopub.status.idle": "2024-11-03T01:09:06.089501Z",
     "shell.execute_reply": "2024-11-03T01:09:06.088382Z"
    },
    "papermill": {
     "duration": 0.021926,
     "end_time": "2024-11-03T01:09:06.092041",
     "exception": false,
     "start_time": "2024-11-03T01:09:06.070115",
     "status": "completed"
    },
    "tags": []
   },
   "outputs": [],
   "source": [
    "columns = [column_groupby]\n",
    "\n",
    "columns = columns + columns_corr\n",
    "\n",
    "df_agg = df_agg.loc[:, columns]"
   ]
  },
  {
   "cell_type": "code",
   "execution_count": 6,
   "id": "7966808d",
   "metadata": {
    "execution": {
     "iopub.execute_input": "2024-11-03T01:09:06.117861Z",
     "iopub.status.busy": "2024-11-03T01:09:06.117441Z",
     "iopub.status.idle": "2024-11-03T01:09:06.139995Z",
     "shell.execute_reply": "2024-11-03T01:09:06.138919Z"
    },
    "papermill": {
     "duration": 0.038346,
     "end_time": "2024-11-03T01:09:06.142523",
     "exception": false,
     "start_time": "2024-11-03T01:09:06.104177",
     "status": "completed"
    },
    "tags": []
   },
   "outputs": [
    {
     "data": {
      "text/html": [
       "<div>\n",
       "<style scoped>\n",
       "    .dataframe tbody tr th:only-of-type {\n",
       "        vertical-align: middle;\n",
       "    }\n",
       "\n",
       "    .dataframe tbody tr th {\n",
       "        vertical-align: top;\n",
       "    }\n",
       "\n",
       "    .dataframe thead th {\n",
       "        text-align: right;\n",
       "    }\n",
       "</style>\n",
       "<table border=\"1\" class=\"dataframe\">\n",
       "  <thead>\n",
       "    <tr style=\"text-align: right;\">\n",
       "      <th></th>\n",
       "      <th>PCIAT-PCIAT_Total</th>\n",
       "      <th>Median_FGC-FGC_CU</th>\n",
       "      <th>Min_Physical-Systolic_BP</th>\n",
       "      <th>Min_Physical-Diastolic_BP</th>\n",
       "    </tr>\n",
       "  </thead>\n",
       "  <tbody>\n",
       "    <tr>\n",
       "      <th>0</th>\n",
       "      <td>0.0</td>\n",
       "      <td>5.000000</td>\n",
       "      <td>62.0</td>\n",
       "      <td>34.0</td>\n",
       "    </tr>\n",
       "    <tr>\n",
       "      <th>1</th>\n",
       "      <td>1.0</td>\n",
       "      <td>8.000000</td>\n",
       "      <td>91.0</td>\n",
       "      <td>53.0</td>\n",
       "    </tr>\n",
       "    <tr>\n",
       "      <th>2</th>\n",
       "      <td>2.0</td>\n",
       "      <td>3.000000</td>\n",
       "      <td>92.0</td>\n",
       "      <td>50.0</td>\n",
       "    </tr>\n",
       "    <tr>\n",
       "      <th>3</th>\n",
       "      <td>3.0</td>\n",
       "      <td>7.000000</td>\n",
       "      <td>82.0</td>\n",
       "      <td>35.0</td>\n",
       "    </tr>\n",
       "    <tr>\n",
       "      <th>4</th>\n",
       "      <td>4.0</td>\n",
       "      <td>5.000000</td>\n",
       "      <td>83.0</td>\n",
       "      <td>47.0</td>\n",
       "    </tr>\n",
       "    <tr>\n",
       "      <th>...</th>\n",
       "      <td>...</td>\n",
       "      <td>...</td>\n",
       "      <td>...</td>\n",
       "      <td>...</td>\n",
       "    </tr>\n",
       "    <tr>\n",
       "      <th>88</th>\n",
       "      <td>89.0</td>\n",
       "      <td>11.000000</td>\n",
       "      <td>117.0</td>\n",
       "      <td>67.0</td>\n",
       "    </tr>\n",
       "    <tr>\n",
       "      <th>89</th>\n",
       "      <td>90.0</td>\n",
       "      <td>12.445055</td>\n",
       "      <td>166.0</td>\n",
       "      <td>87.0</td>\n",
       "    </tr>\n",
       "    <tr>\n",
       "      <th>90</th>\n",
       "      <td>91.0</td>\n",
       "      <td>28.000000</td>\n",
       "      <td>129.0</td>\n",
       "      <td>80.0</td>\n",
       "    </tr>\n",
       "    <tr>\n",
       "      <th>91</th>\n",
       "      <td>92.0</td>\n",
       "      <td>12.000000</td>\n",
       "      <td>99.0</td>\n",
       "      <td>61.0</td>\n",
       "    </tr>\n",
       "    <tr>\n",
       "      <th>92</th>\n",
       "      <td>93.0</td>\n",
       "      <td>27.000000</td>\n",
       "      <td>129.0</td>\n",
       "      <td>64.0</td>\n",
       "    </tr>\n",
       "  </tbody>\n",
       "</table>\n",
       "<p>93 rows × 4 columns</p>\n",
       "</div>"
      ],
      "text/plain": [
       "    PCIAT-PCIAT_Total  Median_FGC-FGC_CU  Min_Physical-Systolic_BP  \\\n",
       "0                 0.0           5.000000                      62.0   \n",
       "1                 1.0           8.000000                      91.0   \n",
       "2                 2.0           3.000000                      92.0   \n",
       "3                 3.0           7.000000                      82.0   \n",
       "4                 4.0           5.000000                      83.0   \n",
       "..                ...                ...                       ...   \n",
       "88               89.0          11.000000                     117.0   \n",
       "89               90.0          12.445055                     166.0   \n",
       "90               91.0          28.000000                     129.0   \n",
       "91               92.0          12.000000                      99.0   \n",
       "92               93.0          27.000000                     129.0   \n",
       "\n",
       "    Min_Physical-Diastolic_BP  \n",
       "0                        34.0  \n",
       "1                        53.0  \n",
       "2                        50.0  \n",
       "3                        35.0  \n",
       "4                        47.0  \n",
       "..                        ...  \n",
       "88                       67.0  \n",
       "89                       87.0  \n",
       "90                       80.0  \n",
       "91                       61.0  \n",
       "92                       64.0  \n",
       "\n",
       "[93 rows x 4 columns]"
      ]
     },
     "execution_count": 6,
     "metadata": {},
     "output_type": "execute_result"
    }
   ],
   "source": [
    "df_agg"
   ]
  },
  {
   "cell_type": "code",
   "execution_count": 7,
   "id": "fe6bcc1f",
   "metadata": {
    "execution": {
     "iopub.execute_input": "2024-11-03T01:09:06.168380Z",
     "iopub.status.busy": "2024-11-03T01:09:06.167950Z",
     "iopub.status.idle": "2024-11-03T01:09:06.187426Z",
     "shell.execute_reply": "2024-11-03T01:09:06.186146Z"
    },
    "papermill": {
     "duration": 0.03528,
     "end_time": "2024-11-03T01:09:06.189953",
     "exception": false,
     "start_time": "2024-11-03T01:09:06.154673",
     "status": "completed"
    },
    "tags": []
   },
   "outputs": [
    {
     "name": "stdout",
     "output_type": "stream",
     "text": [
      "['PCIAT-PCIAT_Total', 'Median_FGC-FGC_CU', 'Min_Physical-Systolic_BP', 'Min_Physical-Diastolic_BP']\n"
     ]
    }
   ],
   "source": [
    "columns = [column_groupby]\n",
    "\n",
    "columns = columns + columns_corr\n",
    "\n",
    "print(columns)\n",
    "\n",
    "new_X_train = X_train.merge(df_agg, how='left', on=column_groupby)[columns]"
   ]
  },
  {
   "cell_type": "code",
   "execution_count": 8,
   "id": "fb67cef2",
   "metadata": {
    "execution": {
     "iopub.execute_input": "2024-11-03T01:09:06.216182Z",
     "iopub.status.busy": "2024-11-03T01:09:06.215737Z",
     "iopub.status.idle": "2024-11-03T01:09:06.224220Z",
     "shell.execute_reply": "2024-11-03T01:09:06.223232Z"
    },
    "papermill": {
     "duration": 0.02428,
     "end_time": "2024-11-03T01:09:06.226544",
     "exception": false,
     "start_time": "2024-11-03T01:09:06.202264",
     "status": "completed"
    },
    "tags": []
   },
   "outputs": [],
   "source": [
    "for column in df_agg.columns:\n",
    "\n",
    "    new_X_train[column] = new_X_train[column].fillna(df_agg[column].mean())"
   ]
  },
  {
   "cell_type": "code",
   "execution_count": 9,
   "id": "10d49f4c",
   "metadata": {
    "execution": {
     "iopub.execute_input": "2024-11-03T01:09:06.252466Z",
     "iopub.status.busy": "2024-11-03T01:09:06.252035Z",
     "iopub.status.idle": "2024-11-03T01:09:06.260337Z",
     "shell.execute_reply": "2024-11-03T01:09:06.259240Z"
    },
    "papermill": {
     "duration": 0.024069,
     "end_time": "2024-11-03T01:09:06.262724",
     "exception": false,
     "start_time": "2024-11-03T01:09:06.238655",
     "status": "completed"
    },
    "tags": []
   },
   "outputs": [
    {
     "data": {
      "text/plain": [
       "3960"
      ]
     },
     "execution_count": 9,
     "metadata": {},
     "output_type": "execute_result"
    }
   ],
   "source": [
    "new_X_train.isna().sum()\n",
    "\n",
    "len(new_X_train)"
   ]
  },
  {
   "cell_type": "code",
   "execution_count": 10,
   "id": "6a2c0696",
   "metadata": {
    "execution": {
     "iopub.execute_input": "2024-11-03T01:09:06.289271Z",
     "iopub.status.busy": "2024-11-03T01:09:06.288824Z",
     "iopub.status.idle": "2024-11-03T01:09:06.295838Z",
     "shell.execute_reply": "2024-11-03T01:09:06.294893Z"
    },
    "papermill": {
     "duration": 0.023356,
     "end_time": "2024-11-03T01:09:06.298475",
     "exception": false,
     "start_time": "2024-11-03T01:09:06.275119",
     "status": "completed"
    },
    "tags": []
   },
   "outputs": [],
   "source": [
    "new_df_train = new_X_train.select_dtypes(include='number')\n",
    "\n",
    "correlation_matrix = new_df_train.corr()"
   ]
  },
  {
   "cell_type": "code",
   "execution_count": 11,
   "id": "d68528cd",
   "metadata": {
    "execution": {
     "iopub.execute_input": "2024-11-03T01:09:06.324856Z",
     "iopub.status.busy": "2024-11-03T01:09:06.324446Z",
     "iopub.status.idle": "2024-11-03T01:09:06.339566Z",
     "shell.execute_reply": "2024-11-03T01:09:06.338443Z"
    },
    "papermill": {
     "duration": 0.031424,
     "end_time": "2024-11-03T01:09:06.342166",
     "exception": false,
     "start_time": "2024-11-03T01:09:06.310742",
     "status": "completed"
    },
    "tags": []
   },
   "outputs": [
    {
     "data": {
      "text/html": [
       "<div>\n",
       "<style scoped>\n",
       "    .dataframe tbody tr th:only-of-type {\n",
       "        vertical-align: middle;\n",
       "    }\n",
       "\n",
       "    .dataframe tbody tr th {\n",
       "        vertical-align: top;\n",
       "    }\n",
       "\n",
       "    .dataframe thead th {\n",
       "        text-align: right;\n",
       "    }\n",
       "</style>\n",
       "<table border=\"1\" class=\"dataframe\">\n",
       "  <thead>\n",
       "    <tr style=\"text-align: right;\">\n",
       "      <th></th>\n",
       "      <th>PCIAT-PCIAT_Total</th>\n",
       "      <th>Median_FGC-FGC_CU</th>\n",
       "      <th>Min_Physical-Systolic_BP</th>\n",
       "      <th>Min_Physical-Diastolic_BP</th>\n",
       "    </tr>\n",
       "  </thead>\n",
       "  <tbody>\n",
       "    <tr>\n",
       "      <th>PCIAT-PCIAT_Total</th>\n",
       "      <td>1.000000</td>\n",
       "      <td>0.798315</td>\n",
       "      <td>0.602366</td>\n",
       "      <td>0.533076</td>\n",
       "    </tr>\n",
       "    <tr>\n",
       "      <th>Median_FGC-FGC_CU</th>\n",
       "      <td>0.798315</td>\n",
       "      <td>1.000000</td>\n",
       "      <td>NaN</td>\n",
       "      <td>NaN</td>\n",
       "    </tr>\n",
       "    <tr>\n",
       "      <th>Min_Physical-Systolic_BP</th>\n",
       "      <td>0.602366</td>\n",
       "      <td>NaN</td>\n",
       "      <td>1.000000</td>\n",
       "      <td>0.619203</td>\n",
       "    </tr>\n",
       "    <tr>\n",
       "      <th>Min_Physical-Diastolic_BP</th>\n",
       "      <td>0.533076</td>\n",
       "      <td>NaN</td>\n",
       "      <td>0.619203</td>\n",
       "      <td>1.000000</td>\n",
       "    </tr>\n",
       "  </tbody>\n",
       "</table>\n",
       "</div>"
      ],
      "text/plain": [
       "                           PCIAT-PCIAT_Total  Median_FGC-FGC_CU  \\\n",
       "PCIAT-PCIAT_Total                   1.000000           0.798315   \n",
       "Median_FGC-FGC_CU                   0.798315           1.000000   \n",
       "Min_Physical-Systolic_BP            0.602366                NaN   \n",
       "Min_Physical-Diastolic_BP           0.533076                NaN   \n",
       "\n",
       "                           Min_Physical-Systolic_BP  Min_Physical-Diastolic_BP  \n",
       "PCIAT-PCIAT_Total                          0.602366                   0.533076  \n",
       "Median_FGC-FGC_CU                               NaN                        NaN  \n",
       "Min_Physical-Systolic_BP                   1.000000                   0.619203  \n",
       "Min_Physical-Diastolic_BP                  0.619203                   1.000000  "
      ]
     },
     "execution_count": 11,
     "metadata": {},
     "output_type": "execute_result"
    }
   ],
   "source": [
    "correlation_matrix[(correlation_matrix > 0.5) | (correlation_matrix < -0.5)]"
   ]
  },
  {
   "cell_type": "code",
   "execution_count": 12,
   "id": "31bfd8d9",
   "metadata": {
    "execution": {
     "iopub.execute_input": "2024-11-03T01:09:06.369246Z",
     "iopub.status.busy": "2024-11-03T01:09:06.368789Z",
     "iopub.status.idle": "2024-11-03T01:09:06.493475Z",
     "shell.execute_reply": "2024-11-03T01:09:06.492420Z"
    },
    "papermill": {
     "duration": 0.141492,
     "end_time": "2024-11-03T01:09:06.496272",
     "exception": false,
     "start_time": "2024-11-03T01:09:06.354780",
     "status": "completed"
    },
    "tags": []
   },
   "outputs": [],
   "source": [
    "from sklearn.model_selection import train_test_split\n",
    "\n",
    "\n",
    "\n",
    "df = pd.concat([new_X_train, y_train], axis=1)\n",
    "\n",
    "df = df[df['sii'].notna()]\n",
    "\n",
    "X = df.iloc[:, :-1]\n",
    "\n",
    "y = df['sii']\n",
    "\n",
    "X_train_split, X_test_split, y_train_split, y_test_split = train_test_split(X, y, test_size=0.2, random_state=42)\n"
   ]
  },
  {
   "cell_type": "code",
   "execution_count": 13,
   "id": "9ef02e4f",
   "metadata": {
    "execution": {
     "iopub.execute_input": "2024-11-03T01:09:06.523113Z",
     "iopub.status.busy": "2024-11-03T01:09:06.522678Z",
     "iopub.status.idle": "2024-11-03T01:09:06.745456Z",
     "shell.execute_reply": "2024-11-03T01:09:06.744189Z"
    },
    "papermill": {
     "duration": 0.239364,
     "end_time": "2024-11-03T01:09:06.748120",
     "exception": false,
     "start_time": "2024-11-03T01:09:06.508756",
     "status": "completed"
    },
    "tags": []
   },
   "outputs": [
    {
     "name": "stdout",
     "output_type": "stream",
     "text": [
      "Test Score: 0.834065299342292\n"
     ]
    }
   ],
   "source": [
    "import numpy as np\n",
    "\n",
    "from sklearn.linear_model import LinearRegression\n",
    "\n",
    "\n",
    "\n",
    "reg = LinearRegression().fit(X_train_split, y_train_split)\n",
    "\n",
    "test_score = reg.score(X_test_split, y_test_split)\n",
    "\n",
    "print(f'Test Score: {test_score}')"
   ]
  },
  {
   "cell_type": "code",
   "execution_count": 14,
   "id": "34b371ef",
   "metadata": {
    "execution": {
     "iopub.execute_input": "2024-11-03T01:09:06.775654Z",
     "iopub.status.busy": "2024-11-03T01:09:06.775223Z",
     "iopub.status.idle": "2024-11-03T01:09:06.781023Z",
     "shell.execute_reply": "2024-11-03T01:09:06.779926Z"
    },
    "papermill": {
     "duration": 0.022745,
     "end_time": "2024-11-03T01:09:06.783699",
     "exception": false,
     "start_time": "2024-11-03T01:09:06.760954",
     "status": "completed"
    },
    "tags": []
   },
   "outputs": [],
   "source": [
    "null_indexes = y_train[y_train.isna()].index"
   ]
  },
  {
   "cell_type": "code",
   "execution_count": 15,
   "id": "20c4c4b5",
   "metadata": {
    "execution": {
     "iopub.execute_input": "2024-11-03T01:09:06.811689Z",
     "iopub.status.busy": "2024-11-03T01:09:06.811272Z",
     "iopub.status.idle": "2024-11-03T01:09:06.817067Z",
     "shell.execute_reply": "2024-11-03T01:09:06.816036Z"
    },
    "papermill": {
     "duration": 0.022106,
     "end_time": "2024-11-03T01:09:06.819207",
     "exception": false,
     "start_time": "2024-11-03T01:09:06.797101",
     "status": "completed"
    },
    "tags": []
   },
   "outputs": [],
   "source": [
    "X_null = new_X_train.iloc[null_indexes] "
   ]
  },
  {
   "cell_type": "code",
   "execution_count": 16,
   "id": "a9c9d2c3",
   "metadata": {
    "execution": {
     "iopub.execute_input": "2024-11-03T01:09:06.845946Z",
     "iopub.status.busy": "2024-11-03T01:09:06.845492Z",
     "iopub.status.idle": "2024-11-03T01:09:06.852366Z",
     "shell.execute_reply": "2024-11-03T01:09:06.851298Z"
    },
    "papermill": {
     "duration": 0.02311,
     "end_time": "2024-11-03T01:09:06.854690",
     "exception": false,
     "start_time": "2024-11-03T01:09:06.831580",
     "status": "completed"
    },
    "tags": []
   },
   "outputs": [],
   "source": [
    "y_pred = reg.predict(X_null) "
   ]
  },
  {
   "cell_type": "code",
   "execution_count": 17,
   "id": "353f11cd",
   "metadata": {
    "execution": {
     "iopub.execute_input": "2024-11-03T01:09:06.881603Z",
     "iopub.status.busy": "2024-11-03T01:09:06.881192Z",
     "iopub.status.idle": "2024-11-03T01:09:07.192425Z",
     "shell.execute_reply": "2024-11-03T01:09:07.191309Z"
    },
    "papermill": {
     "duration": 0.327689,
     "end_time": "2024-11-03T01:09:07.194966",
     "exception": false,
     "start_time": "2024-11-03T01:09:06.867277",
     "status": "completed"
    },
    "tags": []
   },
   "outputs": [
    {
     "data": {
      "text/plain": [
       "(array([   0.,    0.,    0.,    0.,    0., 1224.,    0.,    0.,    0.,\n",
       "           0.]),\n",
       " array([0.6879386, 0.7879386, 0.8879386, 0.9879386, 1.0879386, 1.1879386,\n",
       "        1.2879386, 1.3879386, 1.4879386, 1.5879386, 1.6879386]),\n",
       " <BarContainer object of 10 artists>)"
      ]
     },
     "execution_count": 17,
     "metadata": {},
     "output_type": "execute_result"
    },
    {
     "data": {
      "image/png": "[encoded data removed]",
      "text/plain": [
       "<Figure size 640x480 with 1 Axes>"
      ]
     },
     "metadata": {},
     "output_type": "display_data"
    }
   ],
   "source": [
    "import matplotlib.pyplot as plt\n",
    "\n",
    "plt.hist(y_pred)"
   ]
  },
  {
   "cell_type": "code",
   "execution_count": 18,
   "id": "3cbde2dd",
   "metadata": {
    "execution": {
     "iopub.execute_input": "2024-11-03T01:09:07.222967Z",
     "iopub.status.busy": "2024-11-03T01:09:07.222473Z",
     "iopub.status.idle": "2024-11-03T01:09:07.228075Z",
     "shell.execute_reply": "2024-11-03T01:09:07.226938Z"
    },
    "papermill": {
     "duration": 0.022618,
     "end_time": "2024-11-03T01:09:07.230587",
     "exception": false,
     "start_time": "2024-11-03T01:09:07.207969",
     "status": "completed"
    },
    "tags": []
   },
   "outputs": [],
   "source": [
    "y_train.iloc[null_indexes] = y_pred"
   ]
  },
  {
   "cell_type": "code",
   "execution_count": 19,
   "id": "a6286587",
   "metadata": {
    "execution": {
     "iopub.execute_input": "2024-11-03T01:09:07.259200Z",
     "iopub.status.busy": "2024-11-03T01:09:07.257961Z",
     "iopub.status.idle": "2024-11-03T01:09:07.263827Z",
     "shell.execute_reply": "2024-11-03T01:09:07.262631Z"
    },
    "papermill": {
     "duration": 0.022668,
     "end_time": "2024-11-03T01:09:07.266412",
     "exception": false,
     "start_time": "2024-11-03T01:09:07.243744",
     "status": "completed"
    },
    "tags": []
   },
   "outputs": [],
   "source": [
    "y_train = np.round(y_train)"
   ]
  },
  {
   "cell_type": "code",
   "execution_count": 20,
   "id": "c0f2a64d",
   "metadata": {
    "execution": {
     "iopub.execute_input": "2024-11-03T01:09:07.294128Z",
     "iopub.status.busy": "2024-11-03T01:09:07.293688Z",
     "iopub.status.idle": "2024-11-03T01:09:07.300114Z",
     "shell.execute_reply": "2024-11-03T01:09:07.298981Z"
    },
    "papermill": {
     "duration": 0.023,
     "end_time": "2024-11-03T01:09:07.302467",
     "exception": false,
     "start_time": "2024-11-03T01:09:07.279467",
     "status": "completed"
    },
    "tags": []
   },
   "outputs": [],
   "source": [
    "X_train = new_X_train.iloc[:, 1:]"
   ]
  },
  {
   "cell_type": "code",
   "execution_count": 21,
   "id": "3544c3a9",
   "metadata": {
    "execution": {
     "iopub.execute_input": "2024-11-03T01:09:07.331070Z",
     "iopub.status.busy": "2024-11-03T01:09:07.329882Z",
     "iopub.status.idle": "2024-11-03T01:09:07.344379Z",
     "shell.execute_reply": "2024-11-03T01:09:07.343144Z"
    },
    "papermill": {
     "duration": 0.031032,
     "end_time": "2024-11-03T01:09:07.346814",
     "exception": false,
     "start_time": "2024-11-03T01:09:07.315782",
     "status": "completed"
    },
    "tags": []
   },
   "outputs": [
    {
     "data": {
      "text/html": [
       "<style>#sk-container-id-1 {color: black;background-color: white;}#sk-container-id-1 pre{padding: 0;}#sk-container-id-1 div.sk-toggleable {background-color: white;}#sk-container-id-1 label.sk-toggleable__label {cursor: pointer;display: block;width: 100%;margin-bottom: 0;padding: 0.3em;box-sizing: border-box;text-align: center;}#sk-container-id-1 label.sk-toggleable__label-arrow:before {content: \"▸\";float: left;margin-right: 0.25em;color: #696969;}#sk-container-id-1 label.sk-toggleable__label-arrow:hover:before {color: black;}#sk-container-id-1 div.sk-estimator:hover label.sk-toggleable__label-arrow:before {color: black;}#sk-container-id-1 div.sk-toggleable__content {max-height: 0;max-width: 0;overflow: hidden;text-align: left;background-color: #f0f8ff;}#sk-container-id-1 div.sk-toggleable__content pre {margin: 0.2em;color: black;border-radius: 0.25em;background-color: #f0f8ff;}#sk-container-id-1 input.sk-toggleable__control:checked~div.sk-toggleable__content {max-height: 200px;max-width: 100%;overflow: auto;}#sk-container-id-1 input.sk-toggleable__control:checked~label.sk-toggleable__label-arrow:before {content: \"▾\";}#sk-container-id-1 div.sk-estimator input.sk-toggleable__control:checked~label.sk-toggleable__label {background-color: #d4ebff;}#sk-container-id-1 div.sk-label input.sk-toggleable__control:checked~label.sk-toggleable__label {background-color: #d4ebff;}#sk-container-id-1 input.sk-hidden--visually {border: 0;clip: rect(1px 1px 1px 1px);clip: rect(1px, 1px, 1px, 1px);height: 1px;margin: -1px;overflow: hidden;padding: 0;position: absolute;width: 1px;}#sk-container-id-1 div.sk-estimator {font-family: monospace;background-color: #f0f8ff;border: 1px dotted black;border-radius: 0.25em;box-sizing: border-box;margin-bottom: 0.5em;}#sk-container-id-1 div.sk-estimator:hover {background-color: #d4ebff;}#sk-container-id-1 div.sk-parallel-item::after {content: \"\";width: 100%;border-bottom: 1px solid gray;flex-grow: 1;}#sk-container-id-1 div.sk-label:hover label.sk-toggleable__label {background-color: #d4ebff;}#sk-container-id-1 div.sk-serial::before {content: \"\";position: absolute;border-left: 1px solid gray;box-sizing: border-box;top: 0;bottom: 0;left: 50%;z-index: 0;}#sk-container-id-1 div.sk-serial {display: flex;flex-direction: column;align-items: center;background-color: white;padding-right: 0.2em;padding-left: 0.2em;position: relative;}#sk-container-id-1 div.sk-item {position: relative;z-index: 1;}#sk-container-id-1 div.sk-parallel {display: flex;align-items: stretch;justify-content: center;background-color: white;position: relative;}#sk-container-id-1 div.sk-item::before, #sk-container-id-1 div.sk-parallel-item::before {content: \"\";position: absolute;border-left: 1px solid gray;box-sizing: border-box;top: 0;bottom: 0;left: 50%;z-index: -1;}#sk-container-id-1 div.sk-parallel-item {display: flex;flex-direction: column;z-index: 1;position: relative;background-color: white;}#sk-container-id-1 div.sk-parallel-item:first-child::after {align-self: flex-end;width: 50%;}#sk-container-id-1 div.sk-parallel-item:last-child::after {align-self: flex-start;width: 50%;}#sk-container-id-1 div.sk-parallel-item:only-child::after {width: 0;}#sk-container-id-1 div.sk-dashed-wrapped {border: 1px dashed gray;margin: 0 0.4em 0.5em 0.4em;box-sizing: border-box;padding-bottom: 0.4em;background-color: white;}#sk-container-id-1 div.sk-label label {font-family: monospace;font-weight: bold;display: inline-block;line-height: 1.2em;}#sk-container-id-1 div.sk-label-container {text-align: center;}#sk-container-id-1 div.sk-container {/* jupyter's `normalize.less` sets `[hidden] { display: none; }` but bootstrap.min.css set `[hidden] { display: none !important; }` so we also need the `!important` here to be able to override the default hidden behavior on the sphinx rendered scikit-learn.org. See: https://github.com/scikit-learn/scikit-learn/issues/21755 */display: inline-block !important;position: relative;}#sk-container-id-1 div.sk-text-repr-fallback {display: none;}</style><div id=\"sk-container-id-1\" class=\"sk-top-container\"><div class=\"sk-text-repr-fallback\"><pre>LinearRegression()</pre><b>In a Jupyter environment, please rerun this cell to show the HTML representation or trust the notebook. <br />On GitHub, the HTML representation is unable to render, please try loading this page with nbviewer.org.</b></div><div class=\"sk-container\" hidden><div class=\"sk-item\"><div class=\"sk-estimator sk-toggleable\"><input class=\"sk-toggleable__control sk-hidden--visually\" id=\"sk-estimator-id-1\" type=\"checkbox\" checked><label for=\"sk-estimator-id-1\" class=\"sk-toggleable__label sk-toggleable__label-arrow\">LinearRegression</label><div class=\"sk-toggleable__content\"><pre>LinearRegression()</pre></div></div></div></div></div>"
      ],
      "text/plain": [
       "LinearRegression()"
      ]
     },
     "execution_count": 21,
     "metadata": {},
     "output_type": "execute_result"
    }
   ],
   "source": [
    "reg_2 = LinearRegression()\n",
    "\n",
    "reg_2.fit(X_train, y_train)"
   ]
  },
  {
   "cell_type": "code",
   "execution_count": null,
   "id": "193b7208",
   "metadata": {
    "papermill": {
     "duration": 0.012999,
     "end_time": "2024-11-03T01:09:07.372966",
     "exception": false,
     "start_time": "2024-11-03T01:09:07.359967",
     "status": "completed"
    },
    "tags": []
   },
   "outputs": [],
   "source": []
  },
  {
   "cell_type": "code",
   "execution_count": 22,
   "id": "223e89b6",
   "metadata": {
    "execution": {
     "iopub.execute_input": "2024-11-03T01:09:07.401112Z",
     "iopub.status.busy": "2024-11-03T01:09:07.400669Z",
     "iopub.status.idle": "2024-11-03T01:09:07.407013Z",
     "shell.execute_reply": "2024-11-03T01:09:07.405838Z"
    },
    "papermill": {
     "duration": 0.023255,
     "end_time": "2024-11-03T01:09:07.409264",
     "exception": false,
     "start_time": "2024-11-03T01:09:07.386009",
     "status": "completed"
    },
    "tags": []
   },
   "outputs": [],
   "source": [
    "X_test_predict = X_test.loc[:, ['FGC-FGC_CU', 'Physical-Systolic_BP','Physical-Diastolic_BP']]"
   ]
  },
  {
   "cell_type": "code",
   "execution_count": 23,
   "id": "e38587aa",
   "metadata": {
    "execution": {
     "iopub.execute_input": "2024-11-03T01:09:07.437692Z",
     "iopub.status.busy": "2024-11-03T01:09:07.436940Z",
     "iopub.status.idle": "2024-11-03T01:09:07.455981Z",
     "shell.execute_reply": "2024-11-03T01:09:07.454648Z"
    },
    "papermill": {
     "duration": 0.035972,
     "end_time": "2024-11-03T01:09:07.458396",
     "exception": false,
     "start_time": "2024-11-03T01:09:07.422424",
     "status": "completed"
    },
    "tags": []
   },
   "outputs": [
    {
     "data": {
      "text/html": [
       "<div>\n",
       "<style scoped>\n",
       "    .dataframe tbody tr th:only-of-type {\n",
       "        vertical-align: middle;\n",
       "    }\n",
       "\n",
       "    .dataframe tbody tr th {\n",
       "        vertical-align: top;\n",
       "    }\n",
       "\n",
       "    .dataframe thead th {\n",
       "        text-align: right;\n",
       "    }\n",
       "</style>\n",
       "<table border=\"1\" class=\"dataframe\">\n",
       "  <thead>\n",
       "    <tr style=\"text-align: right;\">\n",
       "      <th></th>\n",
       "      <th>FGC-FGC_CU</th>\n",
       "      <th>Physical-Systolic_BP</th>\n",
       "      <th>Physical-Diastolic_BP</th>\n",
       "    </tr>\n",
       "  </thead>\n",
       "  <tbody>\n",
       "    <tr>\n",
       "      <th>0</th>\n",
       "      <td>0.0</td>\n",
       "      <td>NaN</td>\n",
       "      <td>NaN</td>\n",
       "    </tr>\n",
       "    <tr>\n",
       "      <th>1</th>\n",
       "      <td>3.0</td>\n",
       "      <td>122.0</td>\n",
       "      <td>75.0</td>\n",
       "    </tr>\n",
       "    <tr>\n",
       "      <th>2</th>\n",
       "      <td>20.0</td>\n",
       "      <td>117.0</td>\n",
       "      <td>65.0</td>\n",
       "    </tr>\n",
       "    <tr>\n",
       "      <th>3</th>\n",
       "      <td>18.0</td>\n",
       "      <td>117.0</td>\n",
       "      <td>60.0</td>\n",
       "    </tr>\n",
       "    <tr>\n",
       "      <th>4</th>\n",
       "      <td>NaN</td>\n",
       "      <td>NaN</td>\n",
       "      <td>NaN</td>\n",
       "    </tr>\n",
       "    <tr>\n",
       "      <th>5</th>\n",
       "      <td>12.0</td>\n",
       "      <td>102.0</td>\n",
       "      <td>60.0</td>\n",
       "    </tr>\n",
       "    <tr>\n",
       "      <th>6</th>\n",
       "      <td>9.0</td>\n",
       "      <td>163.0</td>\n",
       "      <td>123.0</td>\n",
       "    </tr>\n",
       "    <tr>\n",
       "      <th>7</th>\n",
       "      <td>0.0</td>\n",
       "      <td>116.0</td>\n",
       "      <td>71.0</td>\n",
       "    </tr>\n",
       "    <tr>\n",
       "      <th>8</th>\n",
       "      <td>NaN</td>\n",
       "      <td>NaN</td>\n",
       "      <td>NaN</td>\n",
       "    </tr>\n",
       "    <tr>\n",
       "      <th>9</th>\n",
       "      <td>NaN</td>\n",
       "      <td>NaN</td>\n",
       "      <td>NaN</td>\n",
       "    </tr>\n",
       "    <tr>\n",
       "      <th>10</th>\n",
       "      <td>NaN</td>\n",
       "      <td>NaN</td>\n",
       "      <td>NaN</td>\n",
       "    </tr>\n",
       "    <tr>\n",
       "      <th>11</th>\n",
       "      <td>NaN</td>\n",
       "      <td>NaN</td>\n",
       "      <td>NaN</td>\n",
       "    </tr>\n",
       "    <tr>\n",
       "      <th>12</th>\n",
       "      <td>24.0</td>\n",
       "      <td>150.0</td>\n",
       "      <td>63.0</td>\n",
       "    </tr>\n",
       "    <tr>\n",
       "      <th>13</th>\n",
       "      <td>10.0</td>\n",
       "      <td>103.0</td>\n",
       "      <td>57.0</td>\n",
       "    </tr>\n",
       "    <tr>\n",
       "      <th>14</th>\n",
       "      <td>NaN</td>\n",
       "      <td>NaN</td>\n",
       "      <td>NaN</td>\n",
       "    </tr>\n",
       "    <tr>\n",
       "      <th>15</th>\n",
       "      <td>6.0</td>\n",
       "      <td>99.0</td>\n",
       "      <td>80.0</td>\n",
       "    </tr>\n",
       "    <tr>\n",
       "      <th>16</th>\n",
       "      <td>0.0</td>\n",
       "      <td>109.0</td>\n",
       "      <td>61.0</td>\n",
       "    </tr>\n",
       "    <tr>\n",
       "      <th>17</th>\n",
       "      <td>5.0</td>\n",
       "      <td>NaN</td>\n",
       "      <td>NaN</td>\n",
       "    </tr>\n",
       "    <tr>\n",
       "      <th>18</th>\n",
       "      <td>6.0</td>\n",
       "      <td>95.0</td>\n",
       "      <td>61.0</td>\n",
       "    </tr>\n",
       "    <tr>\n",
       "      <th>19</th>\n",
       "      <td>NaN</td>\n",
       "      <td>NaN</td>\n",
       "      <td>NaN</td>\n",
       "    </tr>\n",
       "  </tbody>\n",
       "</table>\n",
       "</div>"
      ],
      "text/plain": [
       "    FGC-FGC_CU  Physical-Systolic_BP  Physical-Diastolic_BP\n",
       "0          0.0                   NaN                    NaN\n",
       "1          3.0                 122.0                   75.0\n",
       "2         20.0                 117.0                   65.0\n",
       "3         18.0                 117.0                   60.0\n",
       "4          NaN                   NaN                    NaN\n",
       "5         12.0                 102.0                   60.0\n",
       "6          9.0                 163.0                  123.0\n",
       "7          0.0                 116.0                   71.0\n",
       "8          NaN                   NaN                    NaN\n",
       "9          NaN                   NaN                    NaN\n",
       "10         NaN                   NaN                    NaN\n",
       "11         NaN                   NaN                    NaN\n",
       "12        24.0                 150.0                   63.0\n",
       "13        10.0                 103.0                   57.0\n",
       "14         NaN                   NaN                    NaN\n",
       "15         6.0                  99.0                   80.0\n",
       "16         0.0                 109.0                   61.0\n",
       "17         5.0                   NaN                    NaN\n",
       "18         6.0                  95.0                   61.0\n",
       "19         NaN                   NaN                    NaN"
      ]
     },
     "execution_count": 23,
     "metadata": {},
     "output_type": "execute_result"
    }
   ],
   "source": [
    "X_test_predict"
   ]
  },
  {
   "cell_type": "code",
   "execution_count": 24,
   "id": "1fef8435",
   "metadata": {
    "execution": {
     "iopub.execute_input": "2024-11-03T01:09:07.487766Z",
     "iopub.status.busy": "2024-11-03T01:09:07.487335Z",
     "iopub.status.idle": "2024-11-03T01:09:07.498076Z",
     "shell.execute_reply": "2024-11-03T01:09:07.496693Z"
    },
    "papermill": {
     "duration": 0.028325,
     "end_time": "2024-11-03T01:09:07.500518",
     "exception": false,
     "start_time": "2024-11-03T01:09:07.472193",
     "status": "completed"
    },
    "tags": []
   },
   "outputs": [],
   "source": [
    "X_test_predict['Median_FGC-FGC_CU'] = X_test_predict['FGC-FGC_CU'].fillna(df_agg['Median_FGC-FGC_CU'].mean())\n",
    "\n",
    "X_test_predict['Min_Physical-Systolic_BP'] = X_test_predict['Physical-Systolic_BP'].fillna(df_agg['Min_Physical-Systolic_BP'].mean())\n",
    "\n",
    "X_test_predict['Min_Physical-Diastolic_BP'] = X_test_predict['Physical-Diastolic_BP'].fillna(df_agg['Min_Physical-Diastolic_BP'].mean())"
   ]
  },
  {
   "cell_type": "code",
   "execution_count": 25,
   "id": "b686fced",
   "metadata": {
    "execution": {
     "iopub.execute_input": "2024-11-03T01:09:07.530072Z",
     "iopub.status.busy": "2024-11-03T01:09:07.529539Z",
     "iopub.status.idle": "2024-11-03T01:09:07.538272Z",
     "shell.execute_reply": "2024-11-03T01:09:07.537177Z"
    },
    "papermill": {
     "duration": 0.026361,
     "end_time": "2024-11-03T01:09:07.540546",
     "exception": false,
     "start_time": "2024-11-03T01:09:07.514185",
     "status": "completed"
    },
    "tags": []
   },
   "outputs": [],
   "source": [
    "X_test_predict = X_test_predict.loc[:, ['Median_FGC-FGC_CU', 'Min_Physical-Systolic_BP', 'Min_Physical-Diastolic_BP']]\n",
    "\n",
    "y_test = reg_2.predict(X_test_predict)"
   ]
  },
  {
   "cell_type": "code",
   "execution_count": 26,
   "id": "8bdb901a",
   "metadata": {
    "execution": {
     "iopub.execute_input": "2024-11-03T01:09:07.569743Z",
     "iopub.status.busy": "2024-11-03T01:09:07.568771Z",
     "iopub.status.idle": "2024-11-03T01:09:07.576617Z",
     "shell.execute_reply": "2024-11-03T01:09:07.575565Z"
    },
    "papermill": {
     "duration": 0.024938,
     "end_time": "2024-11-03T01:09:07.578990",
     "exception": false,
     "start_time": "2024-11-03T01:09:07.554052",
     "status": "completed"
    },
    "tags": []
   },
   "outputs": [
    {
     "data": {
      "text/plain": [
       "array([-3.13929670e-01,  4.02711689e-01,  2.12072203e+00,  1.90178370e+00,\n",
       "        1.00325691e+00,  1.06647381e+00,  1.65483135e+00, -7.22774543e-04,\n",
       "        1.00325691e+00,  1.00325691e+00,  1.00325691e+00,  1.00325691e+00,\n",
       "        2.98177115e+00,  8.63789947e-01,  1.00325691e+00,  4.20411119e-01,\n",
       "       -1.08697642e-01,  2.15271120e-01,  3.39425619e-01,  1.00325691e+00])"
      ]
     },
     "execution_count": 26,
     "metadata": {},
     "output_type": "execute_result"
    }
   ],
   "source": [
    "y_test"
   ]
  },
  {
   "cell_type": "code",
   "execution_count": 27,
   "id": "c997f839",
   "metadata": {
    "execution": {
     "iopub.execute_input": "2024-11-03T01:09:07.608152Z",
     "iopub.status.busy": "2024-11-03T01:09:07.607621Z",
     "iopub.status.idle": "2024-11-03T01:09:07.613086Z",
     "shell.execute_reply": "2024-11-03T01:09:07.611933Z"
    },
    "papermill": {
     "duration": 0.023843,
     "end_time": "2024-11-03T01:09:07.616459",
     "exception": false,
     "start_time": "2024-11-03T01:09:07.592616",
     "status": "completed"
    },
    "tags": []
   },
   "outputs": [],
   "source": [
    "conditions = [y_test <= 0, y_test <= 1, y_test <= 2, y_test <= 3]\n",
    "\n",
    "choices = [0, 1, 2, 3]"
   ]
  },
  {
   "cell_type": "code",
   "execution_count": 28,
   "id": "fa1fc07e",
   "metadata": {
    "execution": {
     "iopub.execute_input": "2024-11-03T01:09:07.646182Z",
     "iopub.status.busy": "2024-11-03T01:09:07.645719Z",
     "iopub.status.idle": "2024-11-03T01:09:07.651457Z",
     "shell.execute_reply": "2024-11-03T01:09:07.650405Z"
    },
    "papermill": {
     "duration": 0.023611,
     "end_time": "2024-11-03T01:09:07.654007",
     "exception": false,
     "start_time": "2024-11-03T01:09:07.630396",
     "status": "completed"
    },
    "tags": []
   },
   "outputs": [],
   "source": [
    "y_test_round = np.select(conditions, choices, default=1)"
   ]
  },
  {
   "cell_type": "code",
   "execution_count": 29,
   "id": "8d8bda7b",
   "metadata": {
    "execution": {
     "iopub.execute_input": "2024-11-03T01:09:07.683446Z",
     "iopub.status.busy": "2024-11-03T01:09:07.683030Z",
     "iopub.status.idle": "2024-11-03T01:09:07.689341Z",
     "shell.execute_reply": "2024-11-03T01:09:07.688239Z"
    },
    "papermill": {
     "duration": 0.023832,
     "end_time": "2024-11-03T01:09:07.691620",
     "exception": false,
     "start_time": "2024-11-03T01:09:07.667788",
     "status": "completed"
    },
    "tags": []
   },
   "outputs": [],
   "source": [
    "df_y_test = pd.DataFrame({'id': X_test['id'], 'sii': y_test_round})"
   ]
  },
  {
   "cell_type": "code",
   "execution_count": 30,
   "id": "7951d79d",
   "metadata": {
    "execution": {
     "iopub.execute_input": "2024-11-03T01:09:07.720834Z",
     "iopub.status.busy": "2024-11-03T01:09:07.720441Z",
     "iopub.status.idle": "2024-11-03T01:09:07.767807Z",
     "shell.execute_reply": "2024-11-03T01:09:07.766661Z"
    },
    "papermill": {
     "duration": 0.065109,
     "end_time": "2024-11-03T01:09:07.770346",
     "exception": false,
     "start_time": "2024-11-03T01:09:07.705237",
     "status": "completed"
    },
    "tags": []
   },
   "outputs": [
    {
     "data": {
      "text/html": [
       "<div>\n",
       "<style scoped>\n",
       "    .dataframe tbody tr th:only-of-type {\n",
       "        vertical-align: middle;\n",
       "    }\n",
       "\n",
       "    .dataframe tbody tr th {\n",
       "        vertical-align: top;\n",
       "    }\n",
       "\n",
       "    .dataframe thead th {\n",
       "        text-align: right;\n",
       "    }\n",
       "</style>\n",
       "<table border=\"1\" class=\"dataframe\">\n",
       "  <thead>\n",
       "    <tr style=\"text-align: right;\">\n",
       "      <th></th>\n",
       "      <th>id</th>\n",
       "      <th>Basic_Demos-Enroll_Season</th>\n",
       "      <th>Basic_Demos-Age</th>\n",
       "      <th>Basic_Demos-Sex</th>\n",
       "      <th>CGAS-Season</th>\n",
       "      <th>CGAS-CGAS_Score</th>\n",
       "      <th>Physical-Season</th>\n",
       "      <th>Physical-BMI</th>\n",
       "      <th>Physical-Height</th>\n",
       "      <th>Physical-Weight</th>\n",
       "      <th>...</th>\n",
       "      <th>BIA-BIA_SMM</th>\n",
       "      <th>BIA-BIA_TBW</th>\n",
       "      <th>PAQ_A-Season</th>\n",
       "      <th>PAQ_A-PAQ_A_Total</th>\n",
       "      <th>PAQ_C-Season</th>\n",
       "      <th>PAQ_C-PAQ_C_Total</th>\n",
       "      <th>SDS-Season</th>\n",
       "      <th>SDS-SDS_Total_Raw</th>\n",
       "      <th>SDS-SDS_Total_T</th>\n",
       "      <th>PreInt_EduHx-Season</th>\n",
       "    </tr>\n",
       "  </thead>\n",
       "  <tbody>\n",
       "    <tr>\n",
       "      <th>0</th>\n",
       "      <td>00008ff9</td>\n",
       "      <td>Fall</td>\n",
       "      <td>5</td>\n",
       "      <td>0</td>\n",
       "      <td>Winter</td>\n",
       "      <td>51.0</td>\n",
       "      <td>Fall</td>\n",
       "      <td>16.877316</td>\n",
       "      <td>46.00</td>\n",
       "      <td>50.8</td>\n",
       "      <td>...</td>\n",
       "      <td>19.5413</td>\n",
       "      <td>32.6909</td>\n",
       "      <td>NaN</td>\n",
       "      <td>NaN</td>\n",
       "      <td>NaN</td>\n",
       "      <td>NaN</td>\n",
       "      <td>NaN</td>\n",
       "      <td>NaN</td>\n",
       "      <td>NaN</td>\n",
       "      <td>Fall</td>\n",
       "    </tr>\n",
       "    <tr>\n",
       "      <th>1</th>\n",
       "      <td>000fd460</td>\n",
       "      <td>Summer</td>\n",
       "      <td>9</td>\n",
       "      <td>0</td>\n",
       "      <td>NaN</td>\n",
       "      <td>NaN</td>\n",
       "      <td>Fall</td>\n",
       "      <td>14.035590</td>\n",
       "      <td>48.00</td>\n",
       "      <td>46.0</td>\n",
       "      <td>...</td>\n",
       "      <td>15.4107</td>\n",
       "      <td>27.0552</td>\n",
       "      <td>NaN</td>\n",
       "      <td>NaN</td>\n",
       "      <td>Fall</td>\n",
       "      <td>2.340</td>\n",
       "      <td>Fall</td>\n",
       "      <td>46.0</td>\n",
       "      <td>64.0</td>\n",
       "      <td>Summer</td>\n",
       "    </tr>\n",
       "    <tr>\n",
       "      <th>2</th>\n",
       "      <td>00105258</td>\n",
       "      <td>Summer</td>\n",
       "      <td>10</td>\n",
       "      <td>1</td>\n",
       "      <td>Fall</td>\n",
       "      <td>71.0</td>\n",
       "      <td>Fall</td>\n",
       "      <td>16.648696</td>\n",
       "      <td>56.50</td>\n",
       "      <td>75.6</td>\n",
       "      <td>...</td>\n",
       "      <td>NaN</td>\n",
       "      <td>NaN</td>\n",
       "      <td>NaN</td>\n",
       "      <td>NaN</td>\n",
       "      <td>Summer</td>\n",
       "      <td>2.170</td>\n",
       "      <td>Fall</td>\n",
       "      <td>38.0</td>\n",
       "      <td>54.0</td>\n",
       "      <td>Summer</td>\n",
       "    </tr>\n",
       "    <tr>\n",
       "      <th>3</th>\n",
       "      <td>00115b9f</td>\n",
       "      <td>Winter</td>\n",
       "      <td>9</td>\n",
       "      <td>0</td>\n",
       "      <td>Fall</td>\n",
       "      <td>71.0</td>\n",
       "      <td>Summer</td>\n",
       "      <td>18.292347</td>\n",
       "      <td>56.00</td>\n",
       "      <td>81.6</td>\n",
       "      <td>...</td>\n",
       "      <td>26.4798</td>\n",
       "      <td>45.9966</td>\n",
       "      <td>NaN</td>\n",
       "      <td>NaN</td>\n",
       "      <td>Winter</td>\n",
       "      <td>2.451</td>\n",
       "      <td>Summer</td>\n",
       "      <td>31.0</td>\n",
       "      <td>45.0</td>\n",
       "      <td>Winter</td>\n",
       "    </tr>\n",
       "    <tr>\n",
       "      <th>4</th>\n",
       "      <td>0016bb22</td>\n",
       "      <td>Spring</td>\n",
       "      <td>18</td>\n",
       "      <td>1</td>\n",
       "      <td>Summer</td>\n",
       "      <td>NaN</td>\n",
       "      <td>NaN</td>\n",
       "      <td>NaN</td>\n",
       "      <td>NaN</td>\n",
       "      <td>NaN</td>\n",
       "      <td>...</td>\n",
       "      <td>NaN</td>\n",
       "      <td>NaN</td>\n",
       "      <td>Summer</td>\n",
       "      <td>1.04</td>\n",
       "      <td>NaN</td>\n",
       "      <td>NaN</td>\n",
       "      <td>NaN</td>\n",
       "      <td>NaN</td>\n",
       "      <td>NaN</td>\n",
       "      <td>NaN</td>\n",
       "    </tr>\n",
       "    <tr>\n",
       "      <th>5</th>\n",
       "      <td>001f3379</td>\n",
       "      <td>Spring</td>\n",
       "      <td>13</td>\n",
       "      <td>1</td>\n",
       "      <td>Winter</td>\n",
       "      <td>50.0</td>\n",
       "      <td>Summer</td>\n",
       "      <td>22.279952</td>\n",
       "      <td>59.50</td>\n",
       "      <td>112.2</td>\n",
       "      <td>...</td>\n",
       "      <td>35.3804</td>\n",
       "      <td>63.1265</td>\n",
       "      <td>NaN</td>\n",
       "      <td>NaN</td>\n",
       "      <td>Spring</td>\n",
       "      <td>4.110</td>\n",
       "      <td>Summer</td>\n",
       "      <td>40.0</td>\n",
       "      <td>56.0</td>\n",
       "      <td>Spring</td>\n",
       "    </tr>\n",
       "    <tr>\n",
       "      <th>6</th>\n",
       "      <td>0038ba98</td>\n",
       "      <td>Fall</td>\n",
       "      <td>10</td>\n",
       "      <td>0</td>\n",
       "      <td>NaN</td>\n",
       "      <td>NaN</td>\n",
       "      <td>Fall</td>\n",
       "      <td>19.660760</td>\n",
       "      <td>55.00</td>\n",
       "      <td>84.6</td>\n",
       "      <td>...</td>\n",
       "      <td>26.1957</td>\n",
       "      <td>47.2211</td>\n",
       "      <td>NaN</td>\n",
       "      <td>NaN</td>\n",
       "      <td>Winter</td>\n",
       "      <td>3.670</td>\n",
       "      <td>Winter</td>\n",
       "      <td>27.0</td>\n",
       "      <td>40.0</td>\n",
       "      <td>Fall</td>\n",
       "    </tr>\n",
       "    <tr>\n",
       "      <th>7</th>\n",
       "      <td>0068a485</td>\n",
       "      <td>Fall</td>\n",
       "      <td>10</td>\n",
       "      <td>1</td>\n",
       "      <td>NaN</td>\n",
       "      <td>NaN</td>\n",
       "      <td>Fall</td>\n",
       "      <td>16.861286</td>\n",
       "      <td>59.25</td>\n",
       "      <td>84.2</td>\n",
       "      <td>...</td>\n",
       "      <td>28.7680</td>\n",
       "      <td>50.4767</td>\n",
       "      <td>NaN</td>\n",
       "      <td>NaN</td>\n",
       "      <td>Fall</td>\n",
       "      <td>1.270</td>\n",
       "      <td>NaN</td>\n",
       "      <td>NaN</td>\n",
       "      <td>NaN</td>\n",
       "      <td>Fall</td>\n",
       "    </tr>\n",
       "    <tr>\n",
       "      <th>8</th>\n",
       "      <td>0069fbed</td>\n",
       "      <td>Summer</td>\n",
       "      <td>15</td>\n",
       "      <td>0</td>\n",
       "      <td>NaN</td>\n",
       "      <td>NaN</td>\n",
       "      <td>Spring</td>\n",
       "      <td>NaN</td>\n",
       "      <td>NaN</td>\n",
       "      <td>NaN</td>\n",
       "      <td>...</td>\n",
       "      <td>NaN</td>\n",
       "      <td>NaN</td>\n",
       "      <td>NaN</td>\n",
       "      <td>NaN</td>\n",
       "      <td>NaN</td>\n",
       "      <td>NaN</td>\n",
       "      <td>NaN</td>\n",
       "      <td>NaN</td>\n",
       "      <td>NaN</td>\n",
       "      <td>Summer</td>\n",
       "    </tr>\n",
       "    <tr>\n",
       "      <th>9</th>\n",
       "      <td>0083e397</td>\n",
       "      <td>Summer</td>\n",
       "      <td>19</td>\n",
       "      <td>1</td>\n",
       "      <td>Summer</td>\n",
       "      <td>NaN</td>\n",
       "      <td>NaN</td>\n",
       "      <td>NaN</td>\n",
       "      <td>NaN</td>\n",
       "      <td>NaN</td>\n",
       "      <td>...</td>\n",
       "      <td>NaN</td>\n",
       "      <td>NaN</td>\n",
       "      <td>NaN</td>\n",
       "      <td>NaN</td>\n",
       "      <td>NaN</td>\n",
       "      <td>NaN</td>\n",
       "      <td>NaN</td>\n",
       "      <td>NaN</td>\n",
       "      <td>NaN</td>\n",
       "      <td>NaN</td>\n",
       "    </tr>\n",
       "    <tr>\n",
       "      <th>10</th>\n",
       "      <td>0087dd65</td>\n",
       "      <td>Spring</td>\n",
       "      <td>11</td>\n",
       "      <td>1</td>\n",
       "      <td>NaN</td>\n",
       "      <td>NaN</td>\n",
       "      <td>NaN</td>\n",
       "      <td>NaN</td>\n",
       "      <td>NaN</td>\n",
       "      <td>NaN</td>\n",
       "      <td>...</td>\n",
       "      <td>NaN</td>\n",
       "      <td>NaN</td>\n",
       "      <td>NaN</td>\n",
       "      <td>NaN</td>\n",
       "      <td>NaN</td>\n",
       "      <td>NaN</td>\n",
       "      <td>NaN</td>\n",
       "      <td>NaN</td>\n",
       "      <td>NaN</td>\n",
       "      <td>Spring</td>\n",
       "    </tr>\n",
       "    <tr>\n",
       "      <th>11</th>\n",
       "      <td>00abe655</td>\n",
       "      <td>Fall</td>\n",
       "      <td>11</td>\n",
       "      <td>0</td>\n",
       "      <td>Summer</td>\n",
       "      <td>66.0</td>\n",
       "      <td>NaN</td>\n",
       "      <td>NaN</td>\n",
       "      <td>NaN</td>\n",
       "      <td>NaN</td>\n",
       "      <td>...</td>\n",
       "      <td>NaN</td>\n",
       "      <td>NaN</td>\n",
       "      <td>NaN</td>\n",
       "      <td>NaN</td>\n",
       "      <td>Winter</td>\n",
       "      <td>1.100</td>\n",
       "      <td>Winter</td>\n",
       "      <td>42.0</td>\n",
       "      <td>59.0</td>\n",
       "      <td>Fall</td>\n",
       "    </tr>\n",
       "    <tr>\n",
       "      <th>12</th>\n",
       "      <td>00ae59c9</td>\n",
       "      <td>Fall</td>\n",
       "      <td>13</td>\n",
       "      <td>0</td>\n",
       "      <td>NaN</td>\n",
       "      <td>NaN</td>\n",
       "      <td>Winter</td>\n",
       "      <td>21.079065</td>\n",
       "      <td>57.75</td>\n",
       "      <td>100.0</td>\n",
       "      <td>...</td>\n",
       "      <td>36.2232</td>\n",
       "      <td>56.0118</td>\n",
       "      <td>NaN</td>\n",
       "      <td>NaN</td>\n",
       "      <td>Fall</td>\n",
       "      <td>3.020</td>\n",
       "      <td>Fall</td>\n",
       "      <td>33.0</td>\n",
       "      <td>47.0</td>\n",
       "      <td>Fall</td>\n",
       "    </tr>\n",
       "    <tr>\n",
       "      <th>13</th>\n",
       "      <td>00af6387</td>\n",
       "      <td>Spring</td>\n",
       "      <td>12</td>\n",
       "      <td>0</td>\n",
       "      <td>NaN</td>\n",
       "      <td>NaN</td>\n",
       "      <td>Spring</td>\n",
       "      <td>15.544111</td>\n",
       "      <td>60.00</td>\n",
       "      <td>79.6</td>\n",
       "      <td>...</td>\n",
       "      <td>NaN</td>\n",
       "      <td>NaN</td>\n",
       "      <td>NaN</td>\n",
       "      <td>NaN</td>\n",
       "      <td>Spring</td>\n",
       "      <td>1.220</td>\n",
       "      <td>NaN</td>\n",
       "      <td>NaN</td>\n",
       "      <td>NaN</td>\n",
       "      <td>Spring</td>\n",
       "    </tr>\n",
       "    <tr>\n",
       "      <th>14</th>\n",
       "      <td>00bd4359</td>\n",
       "      <td>Spring</td>\n",
       "      <td>12</td>\n",
       "      <td>0</td>\n",
       "      <td>NaN</td>\n",
       "      <td>NaN</td>\n",
       "      <td>NaN</td>\n",
       "      <td>NaN</td>\n",
       "      <td>NaN</td>\n",
       "      <td>NaN</td>\n",
       "      <td>...</td>\n",
       "      <td>NaN</td>\n",
       "      <td>NaN</td>\n",
       "      <td>NaN</td>\n",
       "      <td>NaN</td>\n",
       "      <td>NaN</td>\n",
       "      <td>NaN</td>\n",
       "      <td>NaN</td>\n",
       "      <td>NaN</td>\n",
       "      <td>NaN</td>\n",
       "      <td>Spring</td>\n",
       "    </tr>\n",
       "    <tr>\n",
       "      <th>15</th>\n",
       "      <td>00c0cd71</td>\n",
       "      <td>Winter</td>\n",
       "      <td>7</td>\n",
       "      <td>0</td>\n",
       "      <td>Summer</td>\n",
       "      <td>51.0</td>\n",
       "      <td>Spring</td>\n",
       "      <td>29.315775</td>\n",
       "      <td>54.00</td>\n",
       "      <td>121.6</td>\n",
       "      <td>...</td>\n",
       "      <td>NaN</td>\n",
       "      <td>NaN</td>\n",
       "      <td>NaN</td>\n",
       "      <td>NaN</td>\n",
       "      <td>NaN</td>\n",
       "      <td>NaN</td>\n",
       "      <td>Spring</td>\n",
       "      <td>35.0</td>\n",
       "      <td>50.0</td>\n",
       "      <td>Winter</td>\n",
       "    </tr>\n",
       "    <tr>\n",
       "      <th>16</th>\n",
       "      <td>00d56d4b</td>\n",
       "      <td>Spring</td>\n",
       "      <td>5</td>\n",
       "      <td>1</td>\n",
       "      <td>Summer</td>\n",
       "      <td>80.0</td>\n",
       "      <td>Spring</td>\n",
       "      <td>17.284504</td>\n",
       "      <td>44.00</td>\n",
       "      <td>47.6</td>\n",
       "      <td>...</td>\n",
       "      <td>NaN</td>\n",
       "      <td>NaN</td>\n",
       "      <td>NaN</td>\n",
       "      <td>NaN</td>\n",
       "      <td>NaN</td>\n",
       "      <td>NaN</td>\n",
       "      <td>Spring</td>\n",
       "      <td>37.0</td>\n",
       "      <td>53.0</td>\n",
       "      <td>Spring</td>\n",
       "    </tr>\n",
       "    <tr>\n",
       "      <th>17</th>\n",
       "      <td>00d9913d</td>\n",
       "      <td>Fall</td>\n",
       "      <td>10</td>\n",
       "      <td>1</td>\n",
       "      <td>NaN</td>\n",
       "      <td>NaN</td>\n",
       "      <td>Fall</td>\n",
       "      <td>19.893157</td>\n",
       "      <td>55.00</td>\n",
       "      <td>85.6</td>\n",
       "      <td>...</td>\n",
       "      <td>NaN</td>\n",
       "      <td>NaN</td>\n",
       "      <td>NaN</td>\n",
       "      <td>NaN</td>\n",
       "      <td>NaN</td>\n",
       "      <td>NaN</td>\n",
       "      <td>NaN</td>\n",
       "      <td>NaN</td>\n",
       "      <td>NaN</td>\n",
       "      <td>Fall</td>\n",
       "    </tr>\n",
       "    <tr>\n",
       "      <th>18</th>\n",
       "      <td>00e6167c</td>\n",
       "      <td>Winter</td>\n",
       "      <td>6</td>\n",
       "      <td>0</td>\n",
       "      <td>Spring</td>\n",
       "      <td>60.0</td>\n",
       "      <td>Winter</td>\n",
       "      <td>30.094649</td>\n",
       "      <td>37.50</td>\n",
       "      <td>60.2</td>\n",
       "      <td>...</td>\n",
       "      <td>19.8886</td>\n",
       "      <td>38.7638</td>\n",
       "      <td>NaN</td>\n",
       "      <td>NaN</td>\n",
       "      <td>NaN</td>\n",
       "      <td>NaN</td>\n",
       "      <td>Winter</td>\n",
       "      <td>39.0</td>\n",
       "      <td>55.0</td>\n",
       "      <td>Winter</td>\n",
       "    </tr>\n",
       "    <tr>\n",
       "      <th>19</th>\n",
       "      <td>00ebc35d</td>\n",
       "      <td>Winter</td>\n",
       "      <td>10</td>\n",
       "      <td>0</td>\n",
       "      <td>NaN</td>\n",
       "      <td>NaN</td>\n",
       "      <td>NaN</td>\n",
       "      <td>NaN</td>\n",
       "      <td>NaN</td>\n",
       "      <td>NaN</td>\n",
       "      <td>...</td>\n",
       "      <td>NaN</td>\n",
       "      <td>NaN</td>\n",
       "      <td>NaN</td>\n",
       "      <td>NaN</td>\n",
       "      <td>NaN</td>\n",
       "      <td>NaN</td>\n",
       "      <td>NaN</td>\n",
       "      <td>NaN</td>\n",
       "      <td>NaN</td>\n",
       "      <td>Winter</td>\n",
       "    </tr>\n",
       "  </tbody>\n",
       "</table>\n",
       "<p>20 rows × 58 columns</p>\n",
       "</div>"
      ],
      "text/plain": [
       "          id Basic_Demos-Enroll_Season  Basic_Demos-Age  Basic_Demos-Sex  \\\n",
       "0   00008ff9                      Fall                5                0   \n",
       "1   000fd460                    Summer                9                0   \n",
       "2   00105258                    Summer               10                1   \n",
       "3   00115b9f                    Winter                9                0   \n",
       "4   0016bb22                    Spring               18                1   \n",
       "5   001f3379                    Spring               13                1   \n",
       "6   0038ba98                      Fall               10                0   \n",
       "7   0068a485                      Fall               10                1   \n",
       "8   0069fbed                    Summer               15                0   \n",
       "9   0083e397                    Summer               19                1   \n",
       "10  0087dd65                    Spring               11                1   \n",
       "11  00abe655                      Fall               11                0   \n",
       "12  00ae59c9                      Fall               13                0   \n",
       "13  00af6387                    Spring               12                0   \n",
       "14  00bd4359                    Spring               12                0   \n",
       "15  00c0cd71                    Winter                7                0   \n",
       "16  00d56d4b                    Spring                5                1   \n",
       "17  00d9913d                      Fall               10                1   \n",
       "18  00e6167c                    Winter                6                0   \n",
       "19  00ebc35d                    Winter               10                0   \n",
       "\n",
       "   CGAS-Season  CGAS-CGAS_Score Physical-Season  Physical-BMI  \\\n",
       "0       Winter             51.0            Fall     16.877316   \n",
       "1          NaN              NaN            Fall     14.035590   \n",
       "2         Fall             71.0            Fall     16.648696   \n",
       "3         Fall             71.0          Summer     18.292347   \n",
       "4       Summer              NaN             NaN           NaN   \n",
       "5       Winter             50.0          Summer     22.279952   \n",
       "6          NaN              NaN            Fall     19.660760   \n",
       "7          NaN              NaN            Fall     16.861286   \n",
       "8          NaN              NaN          Spring           NaN   \n",
       "9       Summer              NaN             NaN           NaN   \n",
       "10         NaN              NaN             NaN           NaN   \n",
       "11      Summer             66.0             NaN           NaN   \n",
       "12         NaN              NaN          Winter     21.079065   \n",
       "13         NaN              NaN          Spring     15.544111   \n",
       "14         NaN              NaN             NaN           NaN   \n",
       "15      Summer             51.0          Spring     29.315775   \n",
       "16      Summer             80.0          Spring     17.284504   \n",
       "17         NaN              NaN            Fall     19.893157   \n",
       "18      Spring             60.0          Winter     30.094649   \n",
       "19         NaN              NaN             NaN           NaN   \n",
       "\n",
       "    Physical-Height  Physical-Weight  ...  BIA-BIA_SMM  BIA-BIA_TBW  \\\n",
       "0             46.00             50.8  ...      19.5413      32.6909   \n",
       "1             48.00             46.0  ...      15.4107      27.0552   \n",
       "2             56.50             75.6  ...          NaN          NaN   \n",
       "3             56.00             81.6  ...      26.4798      45.9966   \n",
       "4               NaN              NaN  ...          NaN          NaN   \n",
       "5             59.50            112.2  ...      35.3804      63.1265   \n",
       "6             55.00             84.6  ...      26.1957      47.2211   \n",
       "7             59.25             84.2  ...      28.7680      50.4767   \n",
       "8               NaN              NaN  ...          NaN          NaN   \n",
       "9               NaN              NaN  ...          NaN          NaN   \n",
       "10              NaN              NaN  ...          NaN          NaN   \n",
       "11              NaN              NaN  ...          NaN          NaN   \n",
       "12            57.75            100.0  ...      36.2232      56.0118   \n",
       "13            60.00             79.6  ...          NaN          NaN   \n",
       "14              NaN              NaN  ...          NaN          NaN   \n",
       "15            54.00            121.6  ...          NaN          NaN   \n",
       "16            44.00             47.6  ...          NaN          NaN   \n",
       "17            55.00             85.6  ...          NaN          NaN   \n",
       "18            37.50             60.2  ...      19.8886      38.7638   \n",
       "19              NaN              NaN  ...          NaN          NaN   \n",
       "\n",
       "    PAQ_A-Season  PAQ_A-PAQ_A_Total PAQ_C-Season  PAQ_C-PAQ_C_Total  \\\n",
       "0            NaN                NaN          NaN                NaN   \n",
       "1            NaN                NaN         Fall              2.340   \n",
       "2            NaN                NaN       Summer              2.170   \n",
       "3            NaN                NaN       Winter              2.451   \n",
       "4         Summer               1.04          NaN                NaN   \n",
       "5            NaN                NaN       Spring              4.110   \n",
       "6            NaN                NaN       Winter              3.670   \n",
       "7            NaN                NaN         Fall              1.270   \n",
       "8            NaN                NaN          NaN                NaN   \n",
       "9            NaN                NaN          NaN                NaN   \n",
       "10           NaN                NaN          NaN                NaN   \n",
       "11           NaN                NaN       Winter              1.100   \n",
       "12           NaN                NaN         Fall              3.020   \n",
       "13           NaN                NaN       Spring              1.220   \n",
       "14           NaN                NaN          NaN                NaN   \n",
       "15           NaN                NaN          NaN                NaN   \n",
       "16           NaN                NaN          NaN                NaN   \n",
       "17           NaN                NaN          NaN                NaN   \n",
       "18           NaN                NaN          NaN                NaN   \n",
       "19           NaN                NaN          NaN                NaN   \n",
       "\n",
       "    SDS-Season  SDS-SDS_Total_Raw SDS-SDS_Total_T  PreInt_EduHx-Season  \n",
       "0          NaN                NaN             NaN                 Fall  \n",
       "1         Fall               46.0            64.0               Summer  \n",
       "2         Fall               38.0            54.0               Summer  \n",
       "3       Summer               31.0            45.0               Winter  \n",
       "4          NaN                NaN             NaN                  NaN  \n",
       "5       Summer               40.0            56.0               Spring  \n",
       "6       Winter               27.0            40.0                 Fall  \n",
       "7          NaN                NaN             NaN                 Fall  \n",
       "8          NaN                NaN             NaN               Summer  \n",
       "9          NaN                NaN             NaN                  NaN  \n",
       "10         NaN                NaN             NaN               Spring  \n",
       "11      Winter               42.0            59.0                 Fall  \n",
       "12        Fall               33.0            47.0                 Fall  \n",
       "13         NaN                NaN             NaN               Spring  \n",
       "14         NaN                NaN             NaN               Spring  \n",
       "15      Spring               35.0            50.0               Winter  \n",
       "16      Spring               37.0            53.0               Spring  \n",
       "17         NaN                NaN             NaN                 Fall  \n",
       "18      Winter               39.0            55.0               Winter  \n",
       "19         NaN                NaN             NaN               Winter  \n",
       "\n",
       "[20 rows x 58 columns]"
      ]
     },
     "execution_count": 30,
     "metadata": {},
     "output_type": "execute_result"
    }
   ],
   "source": [
    "X_test"
   ]
  },
  {
   "cell_type": "code",
   "execution_count": 31,
   "id": "fd38aef9",
   "metadata": {
    "execution": {
     "iopub.execute_input": "2024-11-03T01:09:07.803073Z",
     "iopub.status.busy": "2024-11-03T01:09:07.802656Z",
     "iopub.status.idle": "2024-11-03T01:09:07.811033Z",
     "shell.execute_reply": "2024-11-03T01:09:07.809900Z"
    },
    "papermill": {
     "duration": 0.027734,
     "end_time": "2024-11-03T01:09:07.813662",
     "exception": false,
     "start_time": "2024-11-03T01:09:07.785928",
     "status": "completed"
    },
    "tags": []
   },
   "outputs": [],
   "source": [
    "from datetime import datetime\n",
    "\n",
    "df_y_test.to_csv(f'submission.csv', index=False)"
   ]
  },
  {
   "cell_type": "code",
   "execution_count": 32,
   "id": "177f1ce1",
   "metadata": {
    "execution": {
     "iopub.execute_input": "2024-11-03T01:09:07.845704Z",
     "iopub.status.busy": "2024-11-03T01:09:07.845308Z",
     "iopub.status.idle": "2024-11-03T01:09:07.852909Z",
     "shell.execute_reply": "2024-11-03T01:09:07.851798Z"
    },
    "papermill": {
     "duration": 0.026583,
     "end_time": "2024-11-03T01:09:07.855339",
     "exception": false,
     "start_time": "2024-11-03T01:09:07.828756",
     "status": "completed"
    },
    "tags": []
   },
   "outputs": [
    {
     "data": {
      "text/plain": [
       "'2024-11-0301:09:07.847262'"
      ]
     },
     "execution_count": 32,
     "metadata": {},
     "output_type": "execute_result"
    }
   ],
   "source": [
    "str(datetime.date(datetime.now()))+str(datetime.time(datetime.now()))"
   ]
  },
  {
   "cell_type": "code",
   "execution_count": 33,
   "id": "af2f4896",
   "metadata": {
    "execution": {
     "iopub.execute_input": "2024-11-03T01:09:07.887097Z",
     "iopub.status.busy": "2024-11-03T01:09:07.886694Z",
     "iopub.status.idle": "2024-11-03T01:09:07.898177Z",
     "shell.execute_reply": "2024-11-03T01:09:07.897110Z"
    },
    "papermill": {
     "duration": 0.030217,
     "end_time": "2024-11-03T01:09:07.900538",
     "exception": false,
     "start_time": "2024-11-03T01:09:07.870321",
     "status": "completed"
    },
    "tags": []
   },
   "outputs": [
    {
     "data": {
      "text/html": [
       "<div>\n",
       "<style scoped>\n",
       "    .dataframe tbody tr th:only-of-type {\n",
       "        vertical-align: middle;\n",
       "    }\n",
       "\n",
       "    .dataframe tbody tr th {\n",
       "        vertical-align: top;\n",
       "    }\n",
       "\n",
       "    .dataframe thead th {\n",
       "        text-align: right;\n",
       "    }\n",
       "</style>\n",
       "<table border=\"1\" class=\"dataframe\">\n",
       "  <thead>\n",
       "    <tr style=\"text-align: right;\">\n",
       "      <th></th>\n",
       "      <th>id</th>\n",
       "      <th>sii</th>\n",
       "    </tr>\n",
       "  </thead>\n",
       "  <tbody>\n",
       "    <tr>\n",
       "      <th>0</th>\n",
       "      <td>00008ff9</td>\n",
       "      <td>0</td>\n",
       "    </tr>\n",
       "    <tr>\n",
       "      <th>1</th>\n",
       "      <td>000fd460</td>\n",
       "      <td>1</td>\n",
       "    </tr>\n",
       "    <tr>\n",
       "      <th>2</th>\n",
       "      <td>00105258</td>\n",
       "      <td>3</td>\n",
       "    </tr>\n",
       "    <tr>\n",
       "      <th>3</th>\n",
       "      <td>00115b9f</td>\n",
       "      <td>2</td>\n",
       "    </tr>\n",
       "    <tr>\n",
       "      <th>4</th>\n",
       "      <td>0016bb22</td>\n",
       "      <td>2</td>\n",
       "    </tr>\n",
       "    <tr>\n",
       "      <th>5</th>\n",
       "      <td>001f3379</td>\n",
       "      <td>2</td>\n",
       "    </tr>\n",
       "    <tr>\n",
       "      <th>6</th>\n",
       "      <td>0038ba98</td>\n",
       "      <td>2</td>\n",
       "    </tr>\n",
       "    <tr>\n",
       "      <th>7</th>\n",
       "      <td>0068a485</td>\n",
       "      <td>0</td>\n",
       "    </tr>\n",
       "    <tr>\n",
       "      <th>8</th>\n",
       "      <td>0069fbed</td>\n",
       "      <td>2</td>\n",
       "    </tr>\n",
       "    <tr>\n",
       "      <th>9</th>\n",
       "      <td>0083e397</td>\n",
       "      <td>2</td>\n",
       "    </tr>\n",
       "    <tr>\n",
       "      <th>10</th>\n",
       "      <td>0087dd65</td>\n",
       "      <td>2</td>\n",
       "    </tr>\n",
       "    <tr>\n",
       "      <th>11</th>\n",
       "      <td>00abe655</td>\n",
       "      <td>2</td>\n",
       "    </tr>\n",
       "    <tr>\n",
       "      <th>12</th>\n",
       "      <td>00ae59c9</td>\n",
       "      <td>3</td>\n",
       "    </tr>\n",
       "    <tr>\n",
       "      <th>13</th>\n",
       "      <td>00af6387</td>\n",
       "      <td>1</td>\n",
       "    </tr>\n",
       "    <tr>\n",
       "      <th>14</th>\n",
       "      <td>00bd4359</td>\n",
       "      <td>2</td>\n",
       "    </tr>\n",
       "    <tr>\n",
       "      <th>15</th>\n",
       "      <td>00c0cd71</td>\n",
       "      <td>1</td>\n",
       "    </tr>\n",
       "    <tr>\n",
       "      <th>16</th>\n",
       "      <td>00d56d4b</td>\n",
       "      <td>0</td>\n",
       "    </tr>\n",
       "    <tr>\n",
       "      <th>17</th>\n",
       "      <td>00d9913d</td>\n",
       "      <td>1</td>\n",
       "    </tr>\n",
       "    <tr>\n",
       "      <th>18</th>\n",
       "      <td>00e6167c</td>\n",
       "      <td>1</td>\n",
       "    </tr>\n",
       "    <tr>\n",
       "      <th>19</th>\n",
       "      <td>00ebc35d</td>\n",
       "      <td>2</td>\n",
       "    </tr>\n",
       "  </tbody>\n",
       "</table>\n",
       "</div>"
      ],
      "text/plain": [
       "          id  sii\n",
       "0   00008ff9    0\n",
       "1   000fd460    1\n",
       "2   00105258    3\n",
       "3   00115b9f    2\n",
       "4   0016bb22    2\n",
       "5   001f3379    2\n",
       "6   0038ba98    2\n",
       "7   0068a485    0\n",
       "8   0069fbed    2\n",
       "9   0083e397    2\n",
       "10  0087dd65    2\n",
       "11  00abe655    2\n",
       "12  00ae59c9    3\n",
       "13  00af6387    1\n",
       "14  00bd4359    2\n",
       "15  00c0cd71    1\n",
       "16  00d56d4b    0\n",
       "17  00d9913d    1\n",
       "18  00e6167c    1\n",
       "19  00ebc35d    2"
      ]
     },
     "execution_count": 33,
     "metadata": {},
     "output_type": "execute_result"
    }
   ],
   "source": [
    "df_y_test"
   ]
  },
  {
   "cell_type": "code",
   "execution_count": null,
   "id": "241e45b6",
   "metadata": {
    "papermill": {
     "duration": 0.014696,
     "end_time": "2024-11-03T01:09:07.930918",
     "exception": false,
     "start_time": "2024-11-03T01:09:07.916222",
     "status": "completed"
    },
    "tags": []
   },
   "outputs": [],
   "source": []
  }
 ],
 "metadata": {
  "kaggle": {
   "accelerator": "none",
   "dataSources": [
    {
     "databundleVersionId": 9643020,
     "sourceId": 81933,
     "sourceType": "competition"
    }
   ],
   "dockerImageVersionId": 30786,
   "isGpuEnabled": false,
   "isInternetEnabled": false,
   "language": "python",
   "sourceType": "notebook"
  },
  "kernelspec": {
   "display_name": "Python 3",
   "language": "python",
   "name": "python3"
  },
  "language_info": {
   "codemirror_mode": {
    "name": "ipython",
    "version": 3
   },
   "file_extension": ".py",
   "mimetype": "text/x-python",
   "name": "python",
   "nbconvert_exporter": "python",
   "pygments_lexer": "ipython3",
   "version": "3.10.14"
  },
  "papermill": {
   "default_parameters": {},
   "duration": 8.437825,
   "end_time": "2024-11-03T01:09:08.567816",
   "environment_variables": {},
   "exception": null,
   "input_path": "__notebook__.ipynb",
   "output_path": "__notebook__.ipynb",
   "parameters": {},
   "start_time": "2024-11-03T01:09:00.129991",
   "version": "2.6.0"
  }
 },
 "nbformat": 4,
 "nbformat_minor": 5
}
