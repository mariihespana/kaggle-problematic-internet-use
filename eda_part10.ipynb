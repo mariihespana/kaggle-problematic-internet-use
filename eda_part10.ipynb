{
 "cells": [
  {
   "cell_type": "code",
   "execution_count": 1,
   "metadata": {},
   "outputs": [],
   "source": [
    "import pandas as pd\n",
    "import numpy as np\n",
    "from sklearn.impute import SimpleImputer, KNNImputer\n",
    "from sklearn.preprocessing import StandardScaler\n",
    "import lightgbm as lgb\n",
    "from sklearn.model_selection import train_test_split\n",
    "from sklearn.metrics import cohen_kappa_score\n",
    "\n",
    "imputer = SimpleImputer(strategy='median')\n",
    "scaler = StandardScaler()\n"
   ]
  },
  {
   "cell_type": "code",
   "execution_count": null,
   "metadata": {},
   "outputs": [],
   "source": [
    "train = pd.read_csv('child-mind-institute-problematic-internet-use/train.csv')\n",
    "test = pd.read_csv('child-mind-institute-problematic-internet-use/test.csv')\n",
    "train_series_data_stats = pd.read_csv('train_series_data_stats.csv')\n",
    "test_series_data_stats = pd.read_csv('test_series_data_stats.csv')\n",
    "\n",
    "# train = pd.read_csv('/kaggle/input/child-mind-institute-problematic-internet-use/train.csv')\n",
    "# test = pd.read_csv('/kaggle/input/child-mind-institute-problematic-internet-use/test.csv')\n",
    "# train_series_data_stats = pd.read_csv('/kaggle/input/series-data-v2/train_series_data_stats.csv')\n",
    "# test_series_data_stats = pd.read_csv('/kaggle/input/series-data-v2/test_series_data_stats.csv')\n",
    "\n"
   ]
  },
  {
   "cell_type": "code",
   "execution_count": 3,
   "metadata": {},
   "outputs": [],
   "source": [
    "def preprocess_data(train, train_series_data_stats, test, test_series_data_stats):\n",
    "\n",
    "    train_merged_df = train.merge(train_series_data_stats, how='left', on='id')\n",
    "    train_merged_df_filtered = train_merged_df[~train_merged_df['sii'].isna()].select_dtypes(include='number')\n",
    "    train_merged_df_filtered = train_merged_df_filtered.loc[:, ~train_merged_df_filtered.columns.str.contains('PCIAT')]\n",
    "    test_merged_df = test.merge(test_series_data_stats, how='left', on='id')\n",
    "    test_merged_df_filtered = test_merged_df.select_dtypes(include='number')\n",
    "\n",
    "    X_train = train_merged_df_filtered.drop(['sii'], axis=1)\n",
    "    y_train = train_merged_df_filtered['sii']\n",
    "    X_test = test_merged_df_filtered\n",
    "\n",
    "    X_train_imputed = imputer.fit_transform(X_train)\n",
    "    X_train_scaled = scaler.fit_transform(X_train_imputed)\n",
    "\n",
    "    X_test_imputed = imputer.transform(X_test)\n",
    "    X_test_scaled = scaler.transform(X_test_imputed)\n",
    "\n",
    "    return X_train_scaled, y_train, X_test_scaled"
   ]
  },
  {
   "cell_type": "code",
   "execution_count": 4,
   "metadata": {},
   "outputs": [],
   "source": [
    "X_train_scaled, y_train, X_test_scaled = preprocess_data(train, train_series_data_stats, test, test_series_data_stats)"
   ]
  },
  {
   "cell_type": "code",
   "execution_count": 5,
   "metadata": {},
   "outputs": [],
   "source": [
    "from sklearn.decomposition import PCA\n",
    "\n",
    "pca = PCA(n_components=20)\n",
    "X_train_pca = pca.fit_transform(X_train_scaled)\n",
    "X_test_pca = pca.transform(X_test_scaled)"
   ]
  },
  {
   "cell_type": "code",
   "execution_count": 6,
   "metadata": {},
   "outputs": [],
   "source": [
    "df_pca = pd.DataFrame(X_train_pca, columns=[f'PC{i+1}' for i in range(20)])"
   ]
  },
  {
   "cell_type": "code",
   "execution_count": 7,
   "metadata": {},
   "outputs": [
    {
     "name": "stdout",
     "output_type": "stream",
     "text": [
      "Explained variance by each of the 10 components:\n",
      "PC1: 16.88%\n",
      "PC2: 7.74%\n",
      "PC3: 6.88%\n",
      "PC4: 4.44%\n",
      "PC5: 4.28%\n",
      "PC6: 3.78%\n",
      "PC7: 3.55%\n",
      "PC8: 2.90%\n",
      "PC9: 2.54%\n",
      "PC10: 2.49%\n",
      "PC11: 2.19%\n",
      "PC12: 2.02%\n",
      "PC13: 2.00%\n",
      "PC14: 1.86%\n",
      "PC15: 1.58%\n",
      "PC16: 1.45%\n",
      "PC17: 1.43%\n",
      "PC18: 1.38%\n",
      "PC19: 1.31%\n",
      "PC20: 1.23%\n",
      "\n",
      "Total variance explained by the 20 components: 71.91%\n"
     ]
    }
   ],
   "source": [
    "# Percentage of variance explained by each component\n",
    "explained_variance = pca.explained_variance_ratio_\n",
    "cumulative_variance = explained_variance.cumsum()\n",
    "\n",
    "print(\"Explained variance by each of the 10 components:\")\n",
    "for i, variance in enumerate(explained_variance, start=1):\n",
    "    print(f'PC{i}: {variance:.2%}')\n",
    "\n",
    "print(f'\\nTotal variance explained by the 20 components: {cumulative_variance[-1]:.2%}')\n"
   ]
  },
  {
   "cell_type": "code",
   "execution_count": 21,
   "metadata": {},
   "outputs": [],
   "source": [
    "from sklearn.linear_model import LinearRegression\n",
    "\n",
    "def apply_model(X, y):\n",
    "    X_train, X_test, y_train, y_test = train_test_split(X, y, test_size=0.2, random_state=42)\n",
    "    reg = LinearRegression().fit(X_train, y_train)\n",
    "    test_score = reg.score(X_train, y_train)\n",
    "    print(f'Test Score: {test_score}')\n",
    "\n",
    "    y_pred = reg.predict(X_test)\n",
    "    y_train_pred = reg.predict(X_train)\n",
    "    y_pred = np.round(y_pred).astype(int)\n",
    "    y_train_pred = np.round(y_train_pred).astype(int)\n",
    "\n",
    "    qwk_score_train = cohen_kappa_score(y_train, y_train_pred, weights='quadratic')\n",
    "    qwk_score_val = cohen_kappa_score(y_test, y_pred, weights='quadratic')\n",
    "    print(\"Train QWK Score:\", qwk_score_train)\n",
    "    print(\"Validation QWK Score:\", qwk_score_val)\n",
    "\n",
    "    return reg"
   ]
  },
  {
   "cell_type": "code",
   "execution_count": 22,
   "metadata": {},
   "outputs": [
    {
     "name": "stdout",
     "output_type": "stream",
     "text": [
      "Test Score: 0.1967141292418062\n",
      "Train QWK Score: 0.334898324596446\n",
      "Validation QWK Score: 0.31709807218785657\n"
     ]
    }
   ],
   "source": [
    "model = apply_model(X_train_pca, y_train)"
   ]
  },
  {
   "cell_type": "code",
   "execution_count": 24,
   "metadata": {},
   "outputs": [],
   "source": [
    "y_pred = model.predict(X_test_pca)\n",
    "y_pred = np.round(y_pred).astype(int)\n"
   ]
  },
  {
   "cell_type": "code",
   "execution_count": 25,
   "metadata": {},
   "outputs": [],
   "source": [
    "submission = pd.DataFrame({'id': test['id'], 'sii': y_pred})\n",
    "submission.to_csv('submission.csv')"
   ]
  },
  {
   "cell_type": "code",
   "execution_count": 26,
   "metadata": {},
   "outputs": [
    {
     "data": {
      "text/html": [
       "<div>\n",
       "<style scoped>\n",
       "    .dataframe tbody tr th:only-of-type {\n",
       "        vertical-align: middle;\n",
       "    }\n",
       "\n",
       "    .dataframe tbody tr th {\n",
       "        vertical-align: top;\n",
       "    }\n",
       "\n",
       "    .dataframe thead th {\n",
       "        text-align: right;\n",
       "    }\n",
       "</style>\n",
       "<table border=\"1\" class=\"dataframe\">\n",
       "  <thead>\n",
       "    <tr style=\"text-align: right;\">\n",
       "      <th></th>\n",
       "      <th>id</th>\n",
       "      <th>sii</th>\n",
       "    </tr>\n",
       "  </thead>\n",
       "  <tbody>\n",
       "    <tr>\n",
       "      <th>0</th>\n",
       "      <td>00008ff9</td>\n",
       "      <td>0</td>\n",
       "    </tr>\n",
       "    <tr>\n",
       "      <th>1</th>\n",
       "      <td>000fd460</td>\n",
       "      <td>0</td>\n",
       "    </tr>\n",
       "    <tr>\n",
       "      <th>2</th>\n",
       "      <td>00105258</td>\n",
       "      <td>1</td>\n",
       "    </tr>\n",
       "    <tr>\n",
       "      <th>3</th>\n",
       "      <td>00115b9f</td>\n",
       "      <td>0</td>\n",
       "    </tr>\n",
       "    <tr>\n",
       "      <th>4</th>\n",
       "      <td>0016bb22</td>\n",
       "      <td>1</td>\n",
       "    </tr>\n",
       "    <tr>\n",
       "      <th>5</th>\n",
       "      <td>001f3379</td>\n",
       "      <td>1</td>\n",
       "    </tr>\n",
       "    <tr>\n",
       "      <th>6</th>\n",
       "      <td>0038ba98</td>\n",
       "      <td>0</td>\n",
       "    </tr>\n",
       "    <tr>\n",
       "      <th>7</th>\n",
       "      <td>0068a485</td>\n",
       "      <td>0</td>\n",
       "    </tr>\n",
       "    <tr>\n",
       "      <th>8</th>\n",
       "      <td>0069fbed</td>\n",
       "      <td>1</td>\n",
       "    </tr>\n",
       "    <tr>\n",
       "      <th>9</th>\n",
       "      <td>0083e397</td>\n",
       "      <td>1</td>\n",
       "    </tr>\n",
       "    <tr>\n",
       "      <th>10</th>\n",
       "      <td>0087dd65</td>\n",
       "      <td>0</td>\n",
       "    </tr>\n",
       "    <tr>\n",
       "      <th>11</th>\n",
       "      <td>00abe655</td>\n",
       "      <td>1</td>\n",
       "    </tr>\n",
       "    <tr>\n",
       "      <th>12</th>\n",
       "      <td>00ae59c9</td>\n",
       "      <td>1</td>\n",
       "    </tr>\n",
       "    <tr>\n",
       "      <th>13</th>\n",
       "      <td>00af6387</td>\n",
       "      <td>1</td>\n",
       "    </tr>\n",
       "    <tr>\n",
       "      <th>14</th>\n",
       "      <td>00bd4359</td>\n",
       "      <td>1</td>\n",
       "    </tr>\n",
       "    <tr>\n",
       "      <th>15</th>\n",
       "      <td>00c0cd71</td>\n",
       "      <td>1</td>\n",
       "    </tr>\n",
       "    <tr>\n",
       "      <th>16</th>\n",
       "      <td>00d56d4b</td>\n",
       "      <td>0</td>\n",
       "    </tr>\n",
       "    <tr>\n",
       "      <th>17</th>\n",
       "      <td>00d9913d</td>\n",
       "      <td>0</td>\n",
       "    </tr>\n",
       "    <tr>\n",
       "      <th>18</th>\n",
       "      <td>00e6167c</td>\n",
       "      <td>0</td>\n",
       "    </tr>\n",
       "    <tr>\n",
       "      <th>19</th>\n",
       "      <td>00ebc35d</td>\n",
       "      <td>1</td>\n",
       "    </tr>\n",
       "  </tbody>\n",
       "</table>\n",
       "</div>"
      ],
      "text/plain": [
       "          id  sii\n",
       "0   00008ff9    0\n",
       "1   000fd460    0\n",
       "2   00105258    1\n",
       "3   00115b9f    0\n",
       "4   0016bb22    1\n",
       "5   001f3379    1\n",
       "6   0038ba98    0\n",
       "7   0068a485    0\n",
       "8   0069fbed    1\n",
       "9   0083e397    1\n",
       "10  0087dd65    0\n",
       "11  00abe655    1\n",
       "12  00ae59c9    1\n",
       "13  00af6387    1\n",
       "14  00bd4359    1\n",
       "15  00c0cd71    1\n",
       "16  00d56d4b    0\n",
       "17  00d9913d    0\n",
       "18  00e6167c    0\n",
       "19  00ebc35d    1"
      ]
     },
     "execution_count": 26,
     "metadata": {},
     "output_type": "execute_result"
    }
   ],
   "source": [
    "submission"
   ]
  },
  {
   "cell_type": "code",
   "execution_count": null,
   "metadata": {},
   "outputs": [],
   "source": []
  }
 ],
 "metadata": {
  "kernelspec": {
   "display_name": "Python 3",
   "language": "python",
   "name": "python3"
  },
  "language_info": {
   "codemirror_mode": {
    "name": "ipython",
    "version": 3
   },
   "file_extension": ".py",
   "mimetype": "text/x-python",
   "name": "python",
   "nbconvert_exporter": "python",
   "pygments_lexer": "ipython3",
   "version": "3.9.2"
  }
 },
 "nbformat": 4,
 "nbformat_minor": 2
}
